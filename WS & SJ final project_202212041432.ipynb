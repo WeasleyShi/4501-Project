{
 "cells": [
  {
   "cell_type": "markdown",
   "id": "32f8ca24",
   "metadata": {},
   "source": [
    "# Understanding Hired Rides in NYC\n",
    "\n",
    "_[Project prompt](https://docs.google.com/document/d/1VERPjEZcC1XSs4-02aM-DbkNr_yaJVbFjLJxaYQswqA/edit#)_\n",
    "\n",
    "_This scaffolding notebook may be used to help setup your final project. It's **totally optional** whether you make use of this or not._\n",
    "\n",
    "_If you do use this notebook, everything provided is optional as well - you may remove or add prose and code as you wish._\n",
    "\n",
    "_Anything in italics (prose) or comments (in code) is meant to provide you with guidance. **Remove the italic lines and provided comments** before submitting the project, if you choose to use this scaffolding. We don't need the guidance when grading._\n",
    "\n",
    "_**All code below should be consider \"pseudo-code\" - not functional by itself, and only a suggestion at the approach.**_"
   ]
  },
  {
   "cell_type": "markdown",
   "id": "25627e8d",
   "metadata": {},
   "source": [
    "## Requirements\n",
    "\n",
    "_A checklist of requirements to keep you on track. Remove this whole cell before submitting the project._\n",
    "\n",
    "* Code clarity: make sure the code conforms to:\n",
    "    * [ ] [PEP 8](https://peps.python.org/pep-0008/) - You might find [this resource](https://realpython.com/python-pep8/) helpful as well as [this](https://github.com/dnanhkhoa/nb_black) or [this](https://jupyterlab-code-formatter.readthedocs.io/en/latest/) tool\n",
    "    * [ ] [PEP 257](https://peps.python.org/pep-0257/)\n",
    "    * [ ] Break each task down into logical functions\n",
    "* The following files are submitted for the project (see the project's GDoc for more details):\n",
    "    * [ ] `README.md`\n",
    "    * [ ] `requirements.txt`\n",
    "    * [ ] `.gitignore`\n",
    "    * [ ] `schema.sql`\n",
    "    * [ ] 6 query files (using the `.sql` extension), appropriately named for the purpose of the query\n",
    "    * [x] Jupyter Notebook containing the project (this file!)\n",
    "* [x] You can edit this cell and add a `x` inside the `[ ]` like this task to denote a completed task"
   ]
  },
  {
   "cell_type": "markdown",
   "id": "2f75fd94",
   "metadata": {},
   "source": [
    "## Project Setup"
   ]
  },
  {
   "cell_type": "code",
   "execution_count": 15,
   "id": "66dcde05",
   "metadata": {},
   "outputs": [],
   "source": [
    "# all import statements needed for the project, for example:\n",
    "import pytest\n",
    "import math\n",
    "import re\n",
    "import bs4\n",
    "import matplotlib.pyplot as plt\n",
    "import pandas as pd\n",
    "import geopandas as gpd\n",
    "import requests\n",
    "import sqlalchemy\n",
    "from math import sin, cos, sqrt, atan2, radians\n",
    "import datetime\n",
    "import warnings\n",
    "import matplotlib\n",
    "from dateutil.parser import parse\n",
    "from scipy.stats import sem\n",
    "import sqlite3\n",
    "import keplergl\n",
    "warnings.filterwarnings('ignore')"
   ]
  },
  {
   "cell_type": "code",
   "execution_count": 16,
   "id": "3f1242c4",
   "metadata": {},
   "outputs": [],
   "source": [
    "TAXI_URL = \"https://www1.nyc.gov/site/tlc/about/tlc-trip-record-data.page\"\n",
    "\n",
    "SHP = gpd.read_file(\"taxi_zones.shp\")\n",
    "\n",
    "NEW_YORK_BOX_COORDS = ((40.560445, -74.242330), (40.908524, -73.717047))\n",
    "\n",
    "DATABASE_URL = \"sqlite:///project.db\"\n",
    "DATABASE_SCHEMA_FILE = \"schema.sql\"\n",
    "QUERY_DIRECTORY = \"queries\""
   ]
  },
  {
   "cell_type": "markdown",
   "id": "26ad10ea",
   "metadata": {},
   "source": [
    "## Part 1: Data Preprocessing"
   ]
  },
  {
   "cell_type": "markdown",
   "id": "ecf38168",
   "metadata": {},
   "source": [
    "_A checklist of requirements to keep you on track. Remove this whole cell before submitting the project. The order of these tasks aren't necessarily the order in which they need to be done. It's okay to do them in an order that makes sense to you._\n",
    "\n",
    "* [ ] Define a function that calculates the distance between two coordinates in kilometers that **only uses the `math` module** from the standard library.\n",
    "* [ ] Taxi data:\n",
    "    * [ ] Use the `re` module, and the packages `requests`, BeautifulSoup (`bs4`), and (optionally) `pandas` to programmatically download the required CSV files & load into memory.\n",
    "    * You may need to do this one file at a time - download, clean, sample. You can cache the sampling by saving it as a CSV file (and thereby freeing up memory on your computer) before moving onto the next file. \n",
    "* [ ] Weather & Uber data:\n",
    "    * [ ] Download the data manually in the link provided in the project doc.\n",
    "* [ ] All data:\n",
    "    * [ ] Load the data using `pandas`\n",
    "    * [ ] Clean the data, including:\n",
    "        * Remove unnecessary columns\n",
    "        * Remove invalid data points (take a moment to consider what's invalid)\n",
    "        * Normalize column names\n",
    "        * (Taxi & Uber data) Remove trips that start and/or end outside the designated [coordinate box](http://bboxfinder.com/#40.560445,-74.242330,40.908524,-73.717047)\n",
    "    * [ ] (Taxi data) Sample the data so that you have roughly the same amount of data points over the given date range for both Taxi data and Uber data.\n",
    "* [ ] Weather data:\n",
    "    * [ ] Split into two `pandas` DataFrames: one for required hourly data, and one for the required daily daya.\n",
    "    * [ ] You may find that the weather data you need later on does not exist at the frequency needed (daily vs hourly). You may calculate/generate samples from one to populate the other. Just document what you’re doing so we can follow along. "
   ]
  },
  {
   "cell_type": "markdown",
   "id": "32074561",
   "metadata": {},
   "source": [
    "### Calculating distance\n",
    "_**TODO:** Write some prose that tells the reader what you're about to do here._"
   ]
  },
  {
   "cell_type": "code",
   "execution_count": 17,
   "id": "a67fc6c6",
   "metadata": {},
   "outputs": [],
   "source": [
    "#prepare for the SHP data\n",
    "def SHP_prepare(SHP):\n",
    "    SHP['PULocationID'] = SHP['LocationID']\n",
    "    SHP['DOLocationID'] = SHP['LocationID']\n",
    "    SHP['pick_lon'] = SHP['geometry'].to_crs(4326).centroid.x\n",
    "    SHP['pick_lat'] = SHP['geometry'].to_crs(4326).centroid.y\n",
    "    SHP['drop_lon'] = SHP['geometry'].to_crs(4326).centroid.x\n",
    "    SHP['drop_lat'] = SHP['geometry'].to_crs(4326).centroid.y\n",
    "    return SHP\n",
    "\n",
    "SHP_trans = SHP_prepare(SHP)\n",
    "\n",
    "# test for def SHP_prepare(SHP)\n",
    "assert isinstance(SHP_trans, pd.DataFrame)"
   ]
  },
  {
   "cell_type": "code",
   "execution_count": 18,
   "id": "7e031bec",
   "metadata": {},
   "outputs": [],
   "source": [
    "#get the coordinates if there is only locationID and append the coordinate column to the dataframe\n",
    "def get_coord(df, SHP):\n",
    "\n",
    "    #drop the records with null values in locationID\n",
    "    try: \n",
    "        df.dropna(axis=0, how= 'any', subset = ['PULocationID', 'DOLocationID'], inplace=True)\n",
    "    except:\n",
    "        pass\n",
    "\n",
    "    if ('PULocationID' in df.columns) and ('DOLocationID' in df.columns): #if only the zone ID is given\n",
    "        df = pd.merge(df, SHP[['PULocationID', 'pick_lon', 'pick_lat']], left_on = 'PULocationID', right_on = 'PULocationID', how = 'left')\n",
    "        df = pd.merge(df, SHP[['DOLocationID', 'drop_lon', 'drop_lat']], left_on = 'DOLocationID', right_on = 'DOLocationID', how = 'left')\n",
    "        \n",
    "    df.dropna(axis=0, how= 'any', subset = ['pick_lon', 'pick_lat', 'drop_lon', 'drop_lat'], inplace=True)\n",
    "    df = df.loc[(df['pick_lon'] <= -73.717047) & (df['pick_lon'] >= -74.242330) & (df['drop_lon'] <= -73.717047) & (df['drop_lon'] >= -74.242330) \n",
    "            & (df['pick_lat'] >= 40.560445) & (df['pick_lat'] <= 40.908524) & (df['drop_lat'] >= 40.560445) & (df['drop_lat'] <= 40.908524)]\n",
    "    return df\n",
    "         \n",
    "\n",
    "\n"
   ]
  },
  {
   "cell_type": "code",
   "execution_count": 19,
   "id": "4cbbe6cc",
   "metadata": {},
   "outputs": [],
   "source": [
    "#use a formula to calculate the distance manually\n",
    "def calculate_distance(pick_lon, pick_lat, drop_lon, drop_lat):\n",
    "    R = 6373.0 #approximate earth radius\n",
    "\n",
    "    lat1 = radians(pick_lat)\n",
    "    lon1 = radians(pick_lon)\n",
    "    lat2 = radians(drop_lat)\n",
    "    lon2 = radians(drop_lon)\n",
    "\n",
    "    dlon = lon2 - lon1\n",
    "    dlat = lat2 - lat1\n",
    "    #formula for calculating the distance (km)\n",
    "    a = sin(dlat / 2)**2 + cos(lat1) * cos(lat2) * sin(dlon / 2)**2\n",
    "    c = 2 * atan2(sqrt(a), sqrt(1 - a))\n",
    "\n",
    "    return (R * c)/1.60934 #return miles\n",
    "\n",
    "#test for def calculate_distance(pick_lon, pick_lat, drop_lon, drop_lat)  \n",
    "assert calculate_distance(40, 40, 40, 40)==0"
   ]
  },
  {
   "cell_type": "code",
   "execution_count": 20,
   "id": "6d6abf52",
   "metadata": {},
   "outputs": [],
   "source": [
    "#add the distance we have just calculated with the formula above\n",
    "def add_distance_column(df):\n",
    "    df['distance'] = df[[\"pick_lon\", \"pick_lat\", \"drop_lon\", \"drop_lat\"]].apply(lambda x: calculate_distance(*x), axis = 1)\n",
    "\n",
    "    return df\n",
    "\n",
    "\n",
    "#test for def add_distance_column(df)      \n",
    "assert add_distance_column(pd.DataFrame({'pick_lon':[11],\"pick_lat\":[2],\"drop_lon\":[3], \"drop_lat\":[4]}))['distance'][0] < 570\n"
   ]
  },
  {
   "cell_type": "markdown",
   "id": "bded6a90",
   "metadata": {},
   "source": [
    "### Processing Uber Data"
   ]
  },
  {
   "cell_type": "code",
   "execution_count": 21,
   "id": "2f1baece",
   "metadata": {},
   "outputs": [],
   "source": [
    "def load_and_clean_uber_data():\n",
    "    \n",
    "    u_df=pd.read_csv('uber_rides_sample.csv')\n",
    "    u_df=u_df.rename(columns={'pickup_longitude':'pick_lon','pickup_latitude':'pick_lat','dropoff_longitude':'drop_lon','dropoff_latitude':'drop_lat','pickup_datetime':'tpep_pickup_datetime'})\n",
    "\n",
    "    u_df.dropna(axis=0, how='any', inplace = True)\n",
    "\n",
    "    u_df = u_df.loc[~(u_df['fare_amount'] <= 0)]\n",
    "\n",
    "    u_df.dropna(axis=0, how= 'any', subset = ['pick_lon', 'pick_lat', 'drop_lon', 'drop_lat'], inplace=True)\n",
    "    u_df = u_df.loc[(u_df['pick_lon'] <= -73.717047) & (u_df['pick_lon'] >= -74.242330) & (u_df['drop_lon'] <= -73.717047) & (u_df['drop_lon'] >= -74.242330) \n",
    "            & (u_df['pick_lat'] >= 40.560445) & (u_df['pick_lat'] <= 40.908524) & (u_df['drop_lat'] >= 40.560445) & (u_df['drop_lat'] <= 40.908524)]\n",
    "\n",
    "    u_df['tpep_pickup_datetime']=u_df['tpep_pickup_datetime'].apply(lambda x:datetime.datetime.strptime(x,'%Y-%m-%d %H:%M:%S %Z'))\n",
    "    u_df['sevenday']=u_df['tpep_pickup_datetime'].apply(lambda x: x.isoweekday()) #add feature indicating the weekday\n",
    "\n",
    "\n",
    "    u_df = u_df.loc[u_df['passenger_count'] <= 10] #eliminate the abnormal customer numbers\n",
    "\n",
    "    u_df.reset_index(drop = True, inplace = True) #reset index\n",
    "    \n",
    "    return u_df[['fare_amount', 'tpep_pickup_datetime', 'pick_lon', 'pick_lat', 'drop_lon', 'drop_lat', 'passenger_count','sevenday']]\n",
    "\n",
    "\n",
    "#test for def load_and_clean_uber_data()  \n",
    "assert len(load_and_clean_uber_data())==195453"
   ]
  },
  {
   "cell_type": "code",
   "execution_count": 22,
   "id": "11238756",
   "metadata": {},
   "outputs": [],
   "source": [
    "#call the above functions to process uber data\n",
    "def get_uber_data():\n",
    "    uber_dataframe = load_and_clean_uber_data()\n",
    "    add_distance_column(uber_dataframe)\n",
    "    uber_dataframe['tpep_pickup_datetime'] = uber_dataframe['tpep_pickup_datetime'].astype('datetime64[ns]')\n",
    "    return uber_dataframe\n",
    "\n",
    "#test for def get_uber_data()   \n",
    "assert len(get_uber_data())==195453"
   ]
  },
  {
   "cell_type": "code",
   "execution_count": 23,
   "id": "80c9c3f3",
   "metadata": {},
   "outputs": [],
   "source": [
    "#find the sample size of uber ride in each month and use this in future sampling in taxi data\n",
    "uber_data = get_uber_data()\n",
    "sample_dic = uber_data.groupby(uber_data['tpep_pickup_datetime'].dt.strftime('%Y-%m')).size().to_dict()"
   ]
  },
  {
   "cell_type": "markdown",
   "id": "93daa717",
   "metadata": {},
   "source": [
    "### Processing Taxi Data\n",
    "\n",
    "_**TODO:** Write some prose that tells the reader what you're about to do here._"
   ]
  },
  {
   "cell_type": "code",
   "execution_count": 24,
   "id": "cbd0d198",
   "metadata": {},
   "outputs": [],
   "source": [
    "def find_taxi_parquet_links():\n",
    "    #construct the regrex expression list which contains the time in which we would like to analyze (2009-01 to 2015-06)\n",
    "    regrexlist = []\n",
    "    for y in range(2009, 2015):\n",
    "        for m in range(1, 13):\n",
    "            if m < 10:\n",
    "                m = '0' + str(m)\n",
    "            regrexlist.append(str(y) + '-' + str(m))\n",
    "    for m in range(1, 7):\n",
    "        regrexlist.append(str(2015) + '-' + '0' + str(m))\n",
    "\n",
    "    #get all the urls and filter with the regrex above\n",
    "    TAXI_URL = \"https://www1.nyc.gov/site/tlc/about/tlc-trip-record-data.page\"\n",
    "    soup = bs4.BeautifulSoup(requests.get(TAXI_URL).content, 'html.parser')\n",
    "    a = soup.find_all('a')\n",
    "    res = []\n",
    "    for ele in a:\n",
    "        try:\n",
    "            if ele['title'] == 'Yellow Taxi Trip Records' :\n",
    "                for reg in regrexlist:\n",
    "                    if re.search(reg, ele['href']) is not None:\n",
    "                        res.append(ele['href'])\n",
    "        except:\n",
    "            pass\n",
    "\n",
    "    return sorted(res) #so the links will be in the order of time(ascending)\n",
    "\n",
    "\n",
    "#test for def find_taxi_parquet_links()\n",
    "assert len(find_taxi_parquet_links()) > 50\n"
   ]
  },
  {
   "cell_type": "code",
   "execution_count": 25,
   "id": "2f40130a",
   "metadata": {},
   "outputs": [],
   "source": [
    "def get_and_clean_month_taxi_data(url, sample_dic):\n",
    "    response = requests.get(url, stream=True)\n",
    "    with open(f\"{url[64:71]}.parquet\", \"wb\") as f:\n",
    "        for chunk in response.iter_content(chunk_size=1024): \n",
    "            if chunk:\n",
    "                f.write(chunk)\n",
    "    df = pd.read_parquet(f\"{url[64:71]}.parquet\", engine='pyarrow')\n",
    "\n",
    "    #deal with different years data, normalize the column names\n",
    "    if '2009' in url[64:71]: #in 2009\n",
    "        df.rename({\n",
    "            'vendor_name': 'VendorID', \n",
    "            'Trip_Pickup_DateTime': 'tpep_pickup_datetime',\n",
    "            'Trip_Dropoff_DateTime': 'tpep_dropoff_datetime',\n",
    "            'Passenger_Count': 'passenger_count',\n",
    "            'Trip_Distance': 'trip_distance',\n",
    "            'Start_Lon': 'pick_lon',\n",
    "            'Start_Lat': 'pick_lat',\n",
    "            'Rate_Code': 'RatecodeID',\n",
    "            'store_and_forward': 'store_and_fwd_flag',\n",
    "            'End_Lon': 'drop_lon',\n",
    "            'End_Lat': 'drop_lat',\n",
    "            'Payment_Type': 'payment_type',\n",
    "            'Fare_Amt': 'fare_amount',\n",
    "            'surcharge': 'extra',\n",
    "            'mta_tax': 'mta_tax',\n",
    "            'Tip_Amt': 'tip_amount',\n",
    "            'Tolls_Amt': 'tolls_amount',\n",
    "            'Total_Amt': 'total_amount'}, \n",
    "            axis = \"columns\", inplace = True)\n",
    "    elif '2010' in url[64:71]: #in 2010\n",
    "        df.rename({\n",
    "            'vendor_id': 'VendorID',\n",
    "            'pickup_datetime': 'tpep_pickup_datetime',\n",
    "            'dropoff_datetime': 'tpep_dropoff_datetime',\n",
    "            'pickup_longitude': 'pick_lon',\n",
    "            'pickup_latitude': 'pick_lat',\n",
    "            'rate_code': 'RatecodeID',\n",
    "            'dropoff_longitude': 'drop_lon',\n",
    "            'dropoff_latitude': 'drop_lat',\n",
    "            'surcharge': 'extra'}, \n",
    "            axis = \"columns\", inplace = True)\n",
    "    else:\n",
    "        pass\n",
    "    \n",
    "\n",
    "    df = add_distance_column(get_coord(df, SHP))\n",
    "    df = df.loc[~(df['passenger_count'] <= 0)]\n",
    "    df = df.loc[~(df['trip_distance'] <= 0)]\n",
    "    df['distance'].mask(df['distance'] == 0, df['trip_distance'], inplace= True)\n",
    "    df = df[['tpep_pickup_datetime', 'tpep_dropoff_datetime', 'passenger_count', \n",
    "            'pick_lon', 'pick_lat', 'drop_lon', 'drop_lat', 'distance', 'tip_amount', 'trip_distance']]\n",
    "    df = df.sample(n = sample_dic[url[64:71]])\n",
    "\n",
    "    return df\n",
    "\n",
    "\n",
    "\n",
    "\n",
    "def get_and_clean_taxi_data(sample_dic):\n",
    "    all_taxi_dataframes = []\n",
    "    \n",
    "    all_par_urls = find_taxi_parquet_links()\n",
    "    for par_url in all_par_urls:\n",
    "        # maybe: first try to see if you've downloaded this exact\n",
    "        # file already and saved it before trying again\n",
    "        dataframe = get_and_clean_month_taxi_data(par_url, sample_dic)\n",
    "        \n",
    "        # maybe: if the file hasn't been saved, save it so you can\n",
    "        # avoid re-downloading it if you re-run the function\n",
    "        \n",
    "        all_taxi_dataframes.append(dataframe)\n",
    "        \n",
    "    # create one gigantic dataframe with data from every month needed\n",
    "    taxi_data = pd.concat(all_taxi_dataframes)\n",
    "    return taxi_data\n",
    "\n",
    "\n",
    "\n",
    "\n",
    "\n",
    "sampled_data = get_and_clean_taxi_data(sample_dic)\n",
    "\n",
    "    \n",
    "\n",
    "#test for def get_and_clean_month_taxi_data(url, sample_dic) \n",
    "url = 'https://d37ci6vzurychx.cloudfront.net/trip-data/yellow_tripdata_2009-01.parquet'\n",
    "test_month_data = get_and_clean_month_taxi_data(url, sample_dic)\n",
    "assert 'vendor_name' not in list(test_month_data.columns)\n",
    "\n",
    "\n",
    "#test for def get_and_clean_taxi_data(sample_dic)\n",
    "assert len(sampled_data) > 19000   \n",
    "\n",
    "\n",
    "    "
   ]
  },
  {
   "cell_type": "code",
   "execution_count": 26,
   "id": "7975a00f",
   "metadata": {},
   "outputs": [],
   "source": [
    "# sampled_data.reset_index(inplace = True)\n",
    "# sampled_data.to_csv('sampled_data.csv', encoding='utf-8')"
   ]
  },
  {
   "cell_type": "markdown",
   "id": "45a15cbb",
   "metadata": {},
   "source": [
    "### Processing Weather Data\n",
    "\n",
    "_**TODO:** Write some prose that tells the reader what you're about to do here._"
   ]
  },
  {
   "cell_type": "code",
   "execution_count": 27,
   "id": "76e864ab",
   "metadata": {},
   "outputs": [],
   "source": [
    "def clean_month_weather_data_hourly(csv_file):\n",
    "    \n",
    "    data=pd.read_csv(csv_file)\n",
    "    \n",
    "    #Since this is an hour-focused database, all daily and month columns are deleted\n",
    "    data=data.drop(data.columns[24:112],axis=1)\n",
    "    \n",
    "    #There are several columns with only one value, meaningless, I deleted them all\n",
    "    data=data.drop(columns=['STATION','LATITUDE','LONGITUDE','ELEVATION','NAME','BackupDirection','BackupDistance','BackupDistanceUnit','BackupElements','BackupElevation','BackupEquipment','BackupLatitude','BackupLongitude','BackupName','WindEquipmentChangeDate'])\n",
    "    \n",
    "    #There are too few values ​​available in several columns, so delete them all\n",
    "    data=data.drop(columns=['HourlyPresentWeatherType','HourlySkyConditions','HourlyStationPressure','HourlyWetBulbTemperature','HourlyPressureChange','HourlyPressureTendency','HourlyWindGustSpeed'])\n",
    "    \n",
    "\n",
    "    #For the source column, it only makes sense to take 4, delete the row with 0, and then delete this column\n",
    "    data=data[data['SOURCE']!=\"O\"]\n",
    "    data=data.drop(columns=['SOURCE'])\n",
    "    \n",
    "    #HourlyWindDirection has some VRB deleted\n",
    "    data=data[data['HourlyWindDirection']!=\"VRB\"]\n",
    "    data[['HourlyWindDirection']]=data[['HourlyWindDirection']].astype('float64')\n",
    "    \n",
    "    #HourlyDewPointTemperature has some modification with s\n",
    "    data['HourlyDewPointTemperature']=data['HourlyDewPointTemperature'].apply( lambda x: str(x)[:-1] if str(x)[-1]=='s' else x)\n",
    "    data[['HourlyDewPointTemperature']]=data[['HourlyDewPointTemperature']].astype('float64')\n",
    "    \n",
    "    #HourlySeaLevelPressure has some modifications with s\n",
    "    data['HourlySeaLevelPressure']=data['HourlySeaLevelPressure'].apply( lambda x: str(x)[:-1] if str(x)[-1]=='s' else x)\n",
    "    data[['HourlySeaLevelPressure']]=data[['HourlySeaLevelPressure']].astype('float64')\n",
    "  \n",
    "    #HourlyDryBulbTemperature has some modifications with s\n",
    "    data['HourlyDryBulbTemperature']=data['HourlyDryBulbTemperature'].apply( lambda x: str(x)[:-1] if str(x)[-1]=='s' else x)\n",
    "    data[['HourlyDryBulbTemperature']]=data[['HourlyDryBulbTemperature']].astype('float64')\n",
    "\n",
    "    #HourlyVisibility has some items with V to be modified, but this column has not been requested in the daily. I don’t know what to do in the future, but I will keep it for now.\n",
    "    data['HourlyVisibility']=data['HourlyVisibility'].apply( lambda x: str(x)[:-1] if str(x)[-1]=='V' else x)\n",
    "    data[['HourlyVisibility']]=data[['HourlyVisibility']].astype('float64')\n",
    "\n",
    "    #If this column is blank, you need to add 0, and remove all T\n",
    "    data=data[data['HourlyPrecipitation']!=\"T\"]\n",
    "    data['HourlyPrecipitation']=data['HourlyPrecipitation'].apply(lambda x: 0 if x=='' else x)\n",
    "\n",
    "    #Added one to remove the \"T\" letter in date\n",
    "    data['DATE']=data['DATE'].apply(lambda x: str(x).replace('T',' '))\n",
    "\n",
    "    #Change some column names\n",
    "    data.rename(columns={'DATE':'tpep_pickup_datetime'}, inplace = True)\n",
    "\n",
    "    #delete blank lines\n",
    "    data=data.dropna(axis=0,how='any')\n",
    "    \n",
    "    #rearranged the index\n",
    "    data.reset_index(drop=True, inplace=True)\n",
    "    \n",
    "    return data\n",
    "\n",
    "\n",
    "#test for def clean_month_weather_data_hourly(csv_file)   \n",
    "assert len(clean_month_weather_data_hourly('2009_weather.csv'))==539 "
   ]
  },
  {
   "cell_type": "code",
   "execution_count": 28,
   "id": "0687581f",
   "metadata": {},
   "outputs": [],
   "source": [
    "def clean_month_weather_data_daily(csv_file):\n",
    "    data=clean_month_weather_data_hourly(csv_file)\n",
    "    df=pd.DataFrame()\n",
    "    \n",
    "    #Extract dates and remove duplicates\n",
    "    df['Date']=data['tpep_pickup_datetime']\n",
    "    df['Date']=df['Date'].apply(lambda x : x[0:10])\n",
    "    df['Date']=df.drop_duplicates()\n",
    "    df=df.dropna(axis=0,how='any')\n",
    "    \n",
    "    #rearranged the index\n",
    "    df.reset_index(drop=True, inplace=True)\n",
    "    df.set_index(['Date'],inplace=True)\n",
    "\n",
    "\n",
    "    #Calculate DailyAverageDewPointTemperature\n",
    "    data['Daily']=data['tpep_pickup_datetime'].apply(lambda x : x[0:10])\n",
    "    data_group=data.groupby('Daily')\n",
    "    DailyAverageDewPointTemperature=data_group.mean().loc[ : ,'HourlyDewPointTemperature']\n",
    "    df['DailyAverageDewPointTemperature']=DailyAverageDewPointTemperature\n",
    "\n",
    "    #Calculate DailyAverageDryBulbTemperature\n",
    "    DailyAverageDryBulbTemperature=data_group.mean().loc[ : , 'HourlyDryBulbTemperature']\n",
    "    df['DailyAverageDryBulbTemperature']=DailyAverageDryBulbTemperature\n",
    "    \n",
    "    #Calculate DailyMaximumDryBulbTemperature\n",
    "    DailyMaximumDryBulbTemperature=data_group.max().loc[:,'HourlyDryBulbTemperature']\n",
    "    df['DailyMaximumDryBulbTemperature']=DailyMaximumDryBulbTemperature\n",
    "    \n",
    "    #Calculate DailyMinimumDryBulbTemperature\n",
    "    DailyMinimumDryBulbTemperature=data_group.min().loc[ : , 'HourlyDryBulbTemperature']\n",
    "    df['DailyMinimumDryBulbTemperature']=DailyMinimumDryBulbTemperature\n",
    "\n",
    "    #Calculate DailyAverageRelativeHumidity\n",
    "    DailyAverageRelativeHumidity=data_group.mean().loc[ : , 'HourlyRelativeHumidity']\n",
    "    df['DailyAverageRelativeHumidity']=DailyAverageRelativeHumidity\n",
    "\n",
    "    #Calculate DailyAverageSeaLevelPressure\n",
    "    DailyAverageSeaLevelPressure=data_group.mean().loc[ : , 'HourlySeaLevelPressure']\n",
    "    df['DailyAverageSeaLevelPressure']=DailyAverageSeaLevelPressure\n",
    "\n",
    "    #Calculate DailyAverageWindSpeed\n",
    "    DailyAverageWindSpeed=data_group.mean().loc[ : , 'HourlyWindSpeed']\n",
    "    df['DailyAverageWindSpeed']=DailyAverageWindSpeed\n",
    "    \n",
    "    #Calculate DailyPeakWindSpeed\n",
    "    DailyPeakWindSpeed=data_group.max().loc[ : , 'HourlyWindDirection']\n",
    "    df['DailyPeakWindSpeed']=DailyPeakWindSpeed\n",
    "\n",
    "    #It is right to add a date column where the date should be replaced with the corresponding genius, but it has no effect for the time being, so let it go\n",
    "    DATE=data_group.max().loc[ : , 'tpep_pickup_datetime']\n",
    "    df['tpep_pickup_datetime']=DATE\n",
    "\n",
    "    #Calculation of DailyPeakWindDirection I have not figured out how to calculate this, if you need to look back later, the rest of the variables are the same\n",
    "    \n",
    "    return df\n",
    "\n",
    "#test for def clean_month_weather_data_daily(csv_file)    \n",
    "assert len(clean_month_weather_data_daily('2009_weather.csv'))==111"
   ]
  },
  {
   "cell_type": "code",
   "execution_count": 29,
   "id": "3ef8945d",
   "metadata": {},
   "outputs": [],
   "source": [
    "def load_and_clean_weather_data():\n",
    "    hourly_dataframes = []\n",
    "    daily_dataframes = []\n",
    "    weather_csv_files=[]\n",
    "    \n",
    "    # add some way to find all weather CSV files\n",
    "    # or just add the name/paths manually\n",
    "    for i in range(6):\n",
    "        weather_csv_files.append(r'{year}_weather.csv'.format(year=i+2009))\n",
    "\n",
    "    \n",
    "    for csv_file in weather_csv_files:\n",
    "        hourly_dataframe = clean_month_weather_data_hourly(csv_file)\n",
    "        daily_dataframe = clean_month_weather_data_daily(csv_file)\n",
    "        hourly_dataframes.append(hourly_dataframe)\n",
    "        daily_dataframes.append(daily_dataframe)\n",
    "        \n",
    "    # create two dataframes with hourly & daily data from every month\n",
    "    hourly_data = pd.concat(hourly_dataframes)\n",
    "    daily_data = pd.concat(daily_dataframes)\n",
    "\n",
    "    #重新调整一下index \n",
    "    hourly_data.reset_index(drop=True, inplace=True)\n",
    "    daily_data.reset_index(drop=True, inplace=True)\n",
    "\n",
    "    \n",
    "    return hourly_data, daily_data\n",
    "\n",
    "#test for def load_and_clean_weather_data()  \n",
    "assert len(load_and_clean_weather_data())==2"
   ]
  },
  {
   "cell_type": "markdown",
   "id": "f900f7aa",
   "metadata": {},
   "source": [
    "### Process All Data\n",
    "\n",
    "！！！！！！Note！！！！！！ for Taxi data, since it takes a long time to read, so we will export the result to a csv then read in, so you can keep a record for the result"
   ]
  },
  {
   "cell_type": "code",
   "execution_count": 52,
   "id": "f7cd53a6",
   "metadata": {},
   "outputs": [],
   "source": [
    "# taxi_data = get_and_clean_taxi_data()\n",
    "sampled_data.reset_index(inplace = True)\n",
    "sampled_data.to_csv('sampled_data.csv', encoding='utf-8')\n",
    "taxi_data = pd.read_csv('sampled_data.csv')\n",
    "uber_data = get_uber_data()\n",
    "hourly_weather_data, daily_weather_data = load_and_clean_weather_data()\n",
    "\n",
    "# taxi_data['pickup_datetime'] = taxi_data['pickup_datetime'].astype('datetime64[ns]')"
   ]
  },
  {
   "cell_type": "markdown",
   "id": "dd101f11",
   "metadata": {},
   "source": [
    "## Part 2: Storing Cleaned Data\n",
    "\n",
    "_Write some prose that tells the reader what you're about to do here._"
   ]
  },
  {
   "cell_type": "code",
   "execution_count": 48,
   "id": "f3529cf6",
   "metadata": {},
   "outputs": [],
   "source": [
    "\n",
    "db = sqlalchemy.create_engine('sqlite:///project.db', echo=False)\n",
    "\n",
    "import logging\n",
    "sqllogger = logging.getLogger(\"sqlalchemy.engine.Engine\")\n",
    "formatter = logging.Formatter(\"[sqlalchemy] %(message)s\")\n",
    "# sqllogger.handlers[0].setFormatter(formatter)\n",
    "\n",
    "from sqlalchemy.orm import declarative_base\n",
    "\n",
    "Base = declarative_base()"
   ]
  },
  {
   "cell_type": "code",
   "execution_count": 53,
   "id": "d2bea0ff",
   "metadata": {},
   "outputs": [],
   "source": [
    "\n",
    "from sqlalchemy import Column, Integer,  Date, REAL, Text, Float\n",
    "\n",
    "class TAXI_TRIPS_SCHEMA(Base):\n",
    "    __tablename__ = \"taxi\"\n",
    "    __table_args__ = {'extend_existing': True}  \n",
    "    \n",
    "    taxiId = Column(Integer, primary_key=True)\n",
    "    tpep_pickup_datetime = Column(Date)\n",
    "    tpep_dropoff_datetime = Column(Date)\n",
    "    passenger_count= Column(Integer)\n",
    "    pick_lon= Column(Float)\n",
    "    pick_lat= Column(Float)\n",
    "    drop_lon= Column(Float)\n",
    "    drop_lat= Column(Float)\n",
    "    distance= Column(Float)\n",
    "    tip_amount= Column(Float)\n",
    "    trip_distance = Column(Float)\n",
    "\n",
    "\n",
    "\n",
    "\n",
    "class UBER_TRIPS_SCHEMA(Base):\n",
    "    __tablename__ = \"uber\" \n",
    "    __table_args__ = {'extend_existing': True} \n",
    "    \n",
    "    uberId = Column(Integer, primary_key=True)\n",
    "    pickup_datetime = Column(Date)\n",
    "    fare_amount= Column(Float)\n",
    "    pick_lon= Column(Float)\n",
    "    pick_lat= Column(Float)\n",
    "    drop_lon= Column(Float)\n",
    "    drop_lat= Column(Float)\n",
    "    distance = Column(Float)\n",
    "    passenger_count= Column(Integer)\n",
    "    sevenday=Column(Integer)\n",
    "\n",
    "\n",
    "\n",
    "\n",
    "\n",
    "class HOURLY_WEATHER_SCHEMA(Base):\n",
    "    __tablename__ = \"hourly\"\n",
    "    __table_args__ = {'extend_existing': True}  \n",
    "    \n",
    "    REM = Column(Text, primary_key=True)\n",
    "    DATE =Column(Text)\n",
    "    REPORT_TYPE=Column(Text)\n",
    "    HourlyAltimeterSetting= Column(Float)\n",
    "    HourlyDewPointTemperature= Column(Float)\n",
    "    HourlyDryBulbTemperature= Column(Float)\n",
    "    HourlyRelativeHumidity= Column(Float)\n",
    "    HourlySeaLevelPressure= Column(Float)\n",
    "    HourlyVisibility = Column(Float)\n",
    "    HourlyWindDirectiont= Column(Float)\n",
    "    HourlyWindSpeed= Column(Float)\n",
    "    HourlyPrecipitation=Column(Float)\n",
    "\n",
    "\n",
    "\n",
    "class DAILY_WEATHER_SCHEMA(Base):\n",
    "    __tablename__ = \"daily\"  \n",
    "    __table_args__ = {'extend_existing': True}\n",
    "    \n",
    "    DATE = Column(Text, primary_key=True)\n",
    "    DailyAverageDewPointTemperature= Column(Float)\n",
    "    DailyAverageDryBulbTemperature= Column(Float)\n",
    "    DailyMaximumDryBulbTemperature= Column(Float)\n",
    "    DailyMinimumDryBulbTemperature= Column(Float)\n",
    "    DailyAverageRelativeHumidity= Column(Float)\n",
    "    DailyAverageSeaLevelPressure = Column(Float)\n",
    "    DailyAverageWindSpeed= Column(REAL)\n",
    "    DailyPeakWindSpeed= Column(REAL)\n",
    "\n",
    "Base.metadata.create_all(db, checkfirst=True)\n"
   ]
  },
  {
   "cell_type": "code",
   "execution_count": 54,
   "id": "5f41e54b",
   "metadata": {},
   "outputs": [],
   "source": [
    "# create that required schema.sql file\n",
    "TAXI_TRIPS_SCHEMA = \"\"\"\n",
    "CREATE TABLE IF NOT EXISTS TAXI (\n",
    "   taxiId INTEGER PRIMARY KEY AUTOINCREMENT,\n",
    "   tpep_pickup_datetime DATE,\n",
    "   tpep_dropoff_datetime DATE,\n",
    "   trip_distance Float,\n",
    "   pick_lon Float,\n",
    "   pick_lat Float,\n",
    "   drop_lon Float,\n",
    "   drop_lat Float,\n",
    "   distance Float,\n",
    "   tip_amount Float\n",
    "   passenger_count INTEGER\n",
    ");\n",
    "\"\"\"\n",
    "\n",
    "UBER_TRIPS_SCHEMA = \"\"\"\n",
    "CREATE TABLE IF NOT EXISTS UBER (\n",
    "   uberId INTEGER PRIMARY KEY AUTOINCREMENT,\n",
    "   fare_amount REAL,\n",
    "   pickup_datetime DATE,\n",
    "   distance Float,\n",
    "   pick_lon Float,\n",
    "   pick_lat Float,\n",
    "   drop_lon Float,\n",
    "   drop_lat Float,\n",
    "   distance Float,\n",
    "   passenger_count INTEGER\n",
    ");\n",
    "\"\"\"\n",
    "\n",
    "HOURLY_WEATHER_SCHEMA=\"\"\"\n",
    "CREATE TABLE IF NOT EXISTS HOURLY (\n",
    "   REM TEXT PRIMARY KEY, \n",
    "   DATE TEXT,\n",
    "   REPORT_TYPE\tTEXT,\n",
    "   HourlyAltimeterSetting Float,\n",
    "   HourlyDewPointTemperature Float,\n",
    "   HourlyDryBulbTemperature Float,\n",
    "   HourlyRelativeHumidity\tFloat,\n",
    "   HourlySeaLevelPressure Float,\n",
    "   HourlyVisibility Float,\n",
    "   HourlyWindDirection Float,\n",
    "   HourlyWindSpeed Float,\n",
    "   HourlyPrecipitation Float\n",
    "\n",
    ");\n",
    "\"\"\"\n",
    "\n",
    "DAILY_WEATHER_SCHEMA=\"\"\"\n",
    "CREATE TABLE IF NOT EXISTS DAILY(\n",
    "   \n",
    "   DATE TEXT PRIMARY KEY,\n",
    "   DailyAverageDewPointTemperature Float,\n",
    "   DailyAverageDryBulbTemperature Float,\n",
    "   DailyMaximumDryBulbTemperature Float,\n",
    "   DailyMinimumDryBulbTemperature Float,\n",
    "   DailyAverageRelativeHumidity Float,\n",
    "   DailyAverageSeaLevelPressure Float,\n",
    "   DailyAverageWindSpeed Float,\n",
    "   DailyPeakWindSpeed Float\n",
    ");\n",
    "\"\"\"\n",
    "\n",
    "\n",
    "with open(DATABASE_SCHEMA_FILE, \"w\") as f:\n",
    "    f.write(HOURLY_WEATHER_SCHEMA)\n",
    "    f.write(DAILY_WEATHER_SCHEMA)\n",
    "    f.write(TAXI_TRIPS_SCHEMA)\n",
    "    f.write(UBER_TRIPS_SCHEMA)"
   ]
  },
  {
   "cell_type": "markdown",
   "id": "c122964f",
   "metadata": {},
   "source": [
    "### Add Data to Database\n",
    "\n",
    "_**TODO:** Write some prose that tells the reader what you're about to do here._"
   ]
  },
  {
   "cell_type": "code",
   "execution_count": 55,
   "id": "22044c9a",
   "metadata": {},
   "outputs": [
    {
     "data": {
      "text/plain": [
       "1251"
      ]
     },
     "execution_count": 55,
     "metadata": {},
     "output_type": "execute_result"
    }
   ],
   "source": [
    "pd.io.sql.to_sql(uber_data,'uber',db, if_exists='replace',index=False)\n",
    "pd.io.sql.to_sql(taxi_data,'taxi',db, if_exists='replace',index=False)\n",
    "pd.io.sql.to_sql(hourly_weather_data,'hourly',db, if_exists='replace',index=False)\n",
    "pd.io.sql.to_sql(daily_weather_data,'daily',db, if_exists='replace',index=False)"
   ]
  },
  {
   "cell_type": "code",
   "execution_count": 56,
   "id": "3fe4d6fe",
   "metadata": {},
   "outputs": [],
   "source": [
    "#it runs correctly, which proves the schema file has correct syntax\n",
    "!sqlite3 project.db < schema.sql"
   ]
  },
  {
   "cell_type": "markdown",
   "id": "8cb6e33e",
   "metadata": {},
   "source": [
    "## Part 3: Understanding the Data"
   ]
  },
  {
   "cell_type": "markdown",
   "id": "b4753fcd",
   "metadata": {},
   "source": [
    "_A checklist of requirements to keep you on track. Remove this whole cell before submitting the project. The order of these tasks aren't necessarily the order in which they need to be done. It's okay to do them in an order that makes sense to you._\n",
    "* [ ] For 01-2009 through 06-2015, what hour of the day was the most popular to take a yellow taxi? The result should have 24 bins.\n",
    "* [ ] For the same time frame, what day of the week was the most popular to take an uber? The result should have 7 bins.\n",
    "* [ ] What is the 95% percentile of distance traveled for all hired trips during July 2013?\n",
    "* [ ] What were the top 10 days with the highest number of hired rides for 2009, and what was the average distance for each day?\n",
    "* [ ] Which 10 days in 2014 were the windiest, and how many hired trips were made on those days?\n",
    "* [ ] During Hurricane Sandy in NYC (Oct 29-30, 2012) and the week leading up to it, how many trips were taken each hour, and for each hour, how much precipitation did NYC receive and what was the sustained wind speed?"
   ]
  },
  {
   "cell_type": "code",
   "execution_count": 57,
   "id": "6a849e92",
   "metadata": {},
   "outputs": [],
   "source": [
    "def write_query_to_file(query, outfile):\n",
    "    with open(outfile, \"w\") as f: \n",
    "        f.write(query)\n",
    "\n"
   ]
  },
  {
   "cell_type": "markdown",
   "id": "4669ffb3",
   "metadata": {},
   "source": [
    "##### Question1"
   ]
  },
  {
   "cell_type": "code",
   "execution_count": 58,
   "id": "db871d3c",
   "metadata": {},
   "outputs": [
    {
     "data": {
      "text/plain": [
       "[('19', 12279),\n",
       " ('18', 11684),\n",
       " ('20', 11396),\n",
       " ('21', 11250),\n",
       " ('22', 10748),\n",
       " ('14', 9791),\n",
       " ('23', 9766),\n",
       " ('17', 9733),\n",
       " ('12', 9611),\n",
       " ('13', 9495),\n",
       " ('15', 9379),\n",
       " ('09', 9146),\n",
       " ('11', 9116),\n",
       " ('08', 8982),\n",
       " ('10', 8706),\n",
       " ('16', 8058),\n",
       " ('00', 7763),\n",
       " ('07', 7070),\n",
       " ('01', 5773),\n",
       " ('02', 4319),\n",
       " ('06', 4017),\n",
       " ('03', 3130),\n",
       " ('04', 2314),\n",
       " ('05', 1927)]"
      ]
     },
     "execution_count": 58,
     "metadata": {},
     "output_type": "execute_result"
    }
   ],
   "source": [
    "#For 01-2009 through 06-2015, what hour of the day was the most popular to take a yellow taxi? The result should have 24 bins.\n",
    "QUERY_1 = \"\"\"\n",
    "SELECT strftime('%H',tpep_pickup_datetime) HOUR, count(distance) from taxi GROUP BY strftime ('%H',tpep_pickup_datetime) order by COUNT(distance) DESC\n",
    "\"\"\"\n",
    "\n",
    "db.execute(QUERY_1).fetchall()"
   ]
  },
  {
   "cell_type": "code",
   "execution_count": 59,
   "id": "a2ef04df",
   "metadata": {},
   "outputs": [],
   "source": [
    "write_query_to_file(QUERY_1, \"top_hour_for_rides.sql\")"
   ]
  },
  {
   "cell_type": "markdown",
   "id": "0e0174dd",
   "metadata": {},
   "source": [
    "##### Question2"
   ]
  },
  {
   "cell_type": "code",
   "execution_count": 60,
   "id": "05db372c",
   "metadata": {},
   "outputs": [
    {
     "data": {
      "text/plain": [
       "[(5, 30161),\n",
       " (6, 29598),\n",
       " (4, 29335),\n",
       " (3, 28326),\n",
       " (2, 27519),\n",
       " (7, 25833),\n",
       " (1, 24681)]"
      ]
     },
     "execution_count": 60,
     "metadata": {},
     "output_type": "execute_result"
    }
   ],
   "source": [
    "QUERY_2 = \"\"\"\n",
    "SELECT sevenday, COUNT(sevenday) From uber GROUP BY sevenday ORDER BY COUNT(sevenday) DESC\n",
    "\"\"\"\n",
    "\n",
    "db.execute(QUERY_2).fetchall()"
   ]
  },
  {
   "cell_type": "code",
   "execution_count": 61,
   "id": "94990e0f",
   "metadata": {},
   "outputs": [],
   "source": [
    "write_query_to_file(QUERY_2, \"most_popular_to_take_uber.sql\")"
   ]
  },
  {
   "cell_type": "markdown",
   "id": "85340665",
   "metadata": {},
   "source": [
    "##### Question3"
   ]
  },
  {
   "cell_type": "code",
   "execution_count": 63,
   "id": "8b862140",
   "metadata": {},
   "outputs": [
    {
     "data": {
      "text/plain": [
       "(95, 44.6)"
      ]
     },
     "execution_count": 63,
     "metadata": {},
     "output_type": "execute_result"
    }
   ],
   "source": [
    "#What is the 95% percentile of distance traveled for all hired trips during July 2013, note that the outlier has been eliminated in sql command\n",
    "\n",
    "QUERY_3 = \"\"\"\n",
    "WITH p AS (SELECT distance, NTILE(95) OVER (ORDER BY distance) AS percentile\n",
    "           FROM (SELECT distance FROM taxi where distance < 90 UNION ALL SELECT distance FROM uber where distance < 90))\n",
    "           \n",
    "SELECT percentile, MAX(distance) as distance\n",
    "FROM p\n",
    "GROUP BY percentile\n",
    "\n",
    "\"\"\"\n",
    "\n",
    "db.execute(QUERY_3).fetchall()[-1]"
   ]
  },
  {
   "cell_type": "code",
   "execution_count": 64,
   "id": "f0d453a7",
   "metadata": {},
   "outputs": [],
   "source": [
    "write_query_to_file(QUERY_3, \"95_percentile.sql\")"
   ]
  },
  {
   "cell_type": "markdown",
   "id": "b00328b9",
   "metadata": {},
   "source": [
    "##### Question4"
   ]
  },
  {
   "cell_type": "code",
   "execution_count": 65,
   "id": "3081f6ab",
   "metadata": {},
   "outputs": [
    {
     "data": {
      "text/plain": [
       "[('2009-12-11', 248, 1.9083893054588144),\n",
       " ('2009-10-23', 226, 1.6580398927314566),\n",
       " ('2009-01-31', 226, 1.8326607233112615),\n",
       " ('2009-05-08', 218, 2.2027736238499345),\n",
       " ('2009-03-20', 218, 2.069933857585883),\n",
       " ('2009-12-03', 211, 1.928259575740227),\n",
       " ('2009-11-06', 209, 2.1134022060915236),\n",
       " ('2009-04-04', 209, 1.9319425281310847),\n",
       " ('2009-12-16', 205, 1.852402600680328),\n",
       " ('2009-12-10', 205, 2.059902498954418)]"
      ]
     },
     "execution_count": 65,
     "metadata": {},
     "output_type": "execute_result"
    }
   ],
   "source": [
    "# What were the top 10 days with the highest number of hired rides for 2009, and what was the average distance for each day?\n",
    "QUERY_4 = \"\"\"\n",
    "WITH p AS (SELECT tpep_pickup_datetime, distance\n",
    "           FROM (SELECT tpep_pickup_datetime, distance FROM taxi UNION ALL SELECT tpep_pickup_datetime, distance FROM uber))\n",
    "\n",
    "SELECT DATE(tpep_pickup_datetime), COUNT(tpep_pickup_datetime), AVG(distance) \n",
    "FROM p\n",
    "WHERE tpep_pickup_datetime BETWEEN '2009-01-01 00:00:00' and '2009-12-31 23:59:59'\n",
    "GROUP BY DATE(tpep_pickup_datetime)\n",
    "ORDER BY COUNT(tpep_pickup_datetime) DESC\n",
    "\n",
    "\"\"\"\n",
    "\n",
    "db.execute(QUERY_4).fetchall()[0:10]"
   ]
  },
  {
   "cell_type": "code",
   "execution_count": 66,
   "id": "2abcf77f",
   "metadata": {},
   "outputs": [],
   "source": [
    "write_query_to_file(QUERY_4, \"highest_number_of_rides_average_distance.sql\")"
   ]
  },
  {
   "cell_type": "markdown",
   "id": "cbca5614",
   "metadata": {},
   "source": [
    "##### Question5"
   ]
  },
  {
   "cell_type": "code",
   "execution_count": 67,
   "id": "513ecac0",
   "metadata": {},
   "outputs": [
    {
     "data": {
      "text/plain": [
       "[('2014-03-13',),\n",
       " ('2014-01-02',),\n",
       " ('2014-03-26',),\n",
       " ('2014-02-13',),\n",
       " ('2014-12-09',),\n",
       " ('2014-12-08',),\n",
       " ('2014-11-02',),\n",
       " ('2014-11-18',),\n",
       " ('2014-12-07',),\n",
       " ('2014-03-29',)]"
      ]
     },
     "execution_count": 67,
     "metadata": {},
     "output_type": "execute_result"
    }
   ],
   "source": [
    "#Which 10 days in 2014 were the windiest, and how many hired trips were made on those days?\n",
    "\n",
    "\n",
    "QUERY_5_1 = \"\"\"\n",
    "SELECT strftime('%Y-%m-%d',tpep_pickup_datetime) day from daily where strftime('%Y',tpep_pickup_datetime) = '2014' order by DailyAverageWindSpeed desc limit 10\n",
    "\n",
    "\"\"\"\n",
    "\n",
    "db.execute(QUERY_5_1).fetchall()"
   ]
  },
  {
   "cell_type": "code",
   "execution_count": 71,
   "id": "c0ebcc2c",
   "metadata": {},
   "outputs": [
    {
     "data": {
      "text/plain": [
       "[(1632,)]"
      ]
     },
     "execution_count": 71,
     "metadata": {},
     "output_type": "execute_result"
    }
   ],
   "source": [
    "# how many hired trips were made on those days?\n",
    "\n",
    "QUERY_5_2 = \"\"\"\n",
    "WITH CTE AS (SELECT strftime('%Y-%m-%d',tpep_pickup_datetime) day from daily where strftime('%Y',tpep_pickup_datetime) = '2014' order by DailyAverageWindSpeed desc limit 10)\n",
    "\n",
    "SELECT COUNT(*) FROM (SELECT strftime('%Y-%m-%d',tpep_pickup_datetime) day FROM taxi UNION ALL SELECT strftime('%Y-%m-%d',tpep_pickup_datetime) day FROM uber) time \n",
    "inner join CTE on time.day = CTE.day \n",
    "\n",
    "\"\"\"\n",
    "\n",
    "\n",
    "db.execute(QUERY_5_2).fetchall()"
   ]
  },
  {
   "cell_type": "code",
   "execution_count": 72,
   "id": "280231a9",
   "metadata": {},
   "outputs": [],
   "source": [
    "write_query_to_file(QUERY_5_1, \"windest_day.sql\")\n",
    "write_query_to_file(QUERY_5_2, \"total_rides_in_windest_day.sql\")"
   ]
  },
  {
   "cell_type": "markdown",
   "id": "00cb592e",
   "metadata": {},
   "source": [
    "##### Question6"
   ]
  },
  {
   "cell_type": "code",
   "execution_count": 73,
   "id": "e96519db",
   "metadata": {},
   "outputs": [
    {
     "data": {
      "text/plain": [
       "[('2012-10-25 20', 20),\n",
       " ('2012-10-27 20', 18),\n",
       " ('2012-10-26 20', 18),\n",
       " ('2012-10-28 00', 17),\n",
       " ('2012-10-27 19', 16),\n",
       " ('2012-10-26 09', 16),\n",
       " ('2012-10-23 20', 16),\n",
       " ('2012-10-22 18', 16),\n",
       " ('2012-10-27 23', 15),\n",
       " ('2012-10-27 18', 14),\n",
       " ('2012-10-27 00', 14),\n",
       " ('2012-10-26 22', 14),\n",
       " ('2012-10-25 07', 14),\n",
       " ('2012-10-23 08', 14),\n",
       " ('2012-10-28 01', 13),\n",
       " ('2012-10-27 16', 13),\n",
       " ('2012-10-26 13', 13),\n",
       " ('2012-10-23 10', 13),\n",
       " ('2012-10-22 11', 13),\n",
       " ('2012-10-25 12', 12),\n",
       " ('2012-10-30 19', 11),\n",
       " ('2012-10-27 22', 11),\n",
       " ('2012-10-27 17', 11),\n",
       " ('2012-10-25 21', 11),\n",
       " ('2012-10-25 11', 11),\n",
       " ('2012-10-24 23', 11),\n",
       " ('2012-10-24 21', 11),\n",
       " ('2012-10-24 20', 11),\n",
       " ('2012-10-23 07', 11),\n",
       " ('2012-10-22 20', 11),\n",
       " ('2012-10-22 13', 11),\n",
       " ('2012-10-22 12', 11),\n",
       " ('2012-10-27 01', 10),\n",
       " ('2012-10-26 23', 10),\n",
       " ('2012-10-26 19', 10),\n",
       " ('2012-10-26 14', 10),\n",
       " ('2012-10-25 22', 10),\n",
       " ('2012-10-25 08', 10),\n",
       " ('2012-10-24 22', 10),\n",
       " ('2012-10-24 19', 10),\n",
       " ('2012-10-24 17', 10),\n",
       " ('2012-10-23 18', 10),\n",
       " ('2012-10-23 14', 10),\n",
       " ('2012-10-28 12', 9),\n",
       " ('2012-10-28 11', 9),\n",
       " ('2012-10-27 21', 9),\n",
       " ('2012-10-26 17', 9),\n",
       " ('2012-10-25 18', 9),\n",
       " ('2012-10-25 15', 9),\n",
       " ('2012-10-24 11', 9),\n",
       " ('2012-10-24 09', 9),\n",
       " ('2012-10-23 21', 9),\n",
       " ('2012-10-23 19', 9),\n",
       " ('2012-10-23 17', 9),\n",
       " ('2012-10-23 13', 9),\n",
       " ('2012-10-23 11', 9),\n",
       " ('2012-10-22 17', 9),\n",
       " ('2012-10-22 16', 9),\n",
       " ('2012-10-29 14', 8),\n",
       " ('2012-10-28 17', 8),\n",
       " ('2012-10-28 15', 8),\n",
       " ('2012-10-28 14', 8),\n",
       " ('2012-10-28 02', 8),\n",
       " ('2012-10-27 09', 8),\n",
       " ('2012-10-27 02', 8),\n",
       " ('2012-10-26 21', 8),\n",
       " ('2012-10-26 18', 8),\n",
       " ('2012-10-26 11', 8),\n",
       " ('2012-10-26 10', 8),\n",
       " ('2012-10-26 07', 8),\n",
       " ('2012-10-25 23', 8),\n",
       " ('2012-10-25 19', 8),\n",
       " ('2012-10-25 17', 8),\n",
       " ('2012-10-25 00', 8),\n",
       " ('2012-10-24 13', 8),\n",
       " ('2012-10-23 23', 8),\n",
       " ('2012-10-23 22', 8),\n",
       " ('2012-10-22 22', 8),\n",
       " ('2012-10-22 09', 8),\n",
       " ('2012-10-30 15', 7),\n",
       " ('2012-10-28 18', 7),\n",
       " ('2012-10-28 16', 7),\n",
       " ('2012-10-28 04', 7),\n",
       " ('2012-10-28 03', 7),\n",
       " ('2012-10-27 14', 7),\n",
       " ('2012-10-27 13', 7),\n",
       " ('2012-10-26 15', 7),\n",
       " ('2012-10-25 10', 7),\n",
       " ('2012-10-24 18', 7),\n",
       " ('2012-10-24 15', 7),\n",
       " ('2012-10-24 12', 7),\n",
       " ('2012-10-23 12', 7),\n",
       " ('2012-10-23 09', 7),\n",
       " ('2012-10-22 07', 7),\n",
       " ('2012-10-30 20', 6),\n",
       " ('2012-10-30 17', 6),\n",
       " ('2012-10-29 12', 6),\n",
       " ('2012-10-28 20', 6),\n",
       " ('2012-10-28 19', 6),\n",
       " ('2012-10-27 12', 6),\n",
       " ('2012-10-27 03', 6),\n",
       " ('2012-10-26 12', 6),\n",
       " ('2012-10-26 04', 6),\n",
       " ('2012-10-25 13', 6),\n",
       " ('2012-10-24 08', 6),\n",
       " ('2012-10-23 15', 6),\n",
       " ('2012-10-22 21', 6),\n",
       " ('2012-10-22 14', 6),\n",
       " ('2012-10-30 18', 5),\n",
       " ('2012-10-30 10', 5),\n",
       " ('2012-10-30 09', 5),\n",
       " ('2012-10-29 11', 5),\n",
       " ('2012-10-28 22', 5),\n",
       " ('2012-10-28 21', 5),\n",
       " ('2012-10-28 13', 5),\n",
       " ('2012-10-28 10', 5),\n",
       " ('2012-10-28 09', 5),\n",
       " ('2012-10-27 15', 5),\n",
       " ('2012-10-27 10', 5),\n",
       " ('2012-10-27 05', 5),\n",
       " ('2012-10-26 02', 5),\n",
       " ('2012-10-25 16', 5),\n",
       " ('2012-10-25 09', 5),\n",
       " ('2012-10-25 06', 5),\n",
       " ('2012-10-24 16', 5),\n",
       " ('2012-10-24 14', 5),\n",
       " ('2012-10-24 07', 5),\n",
       " ('2012-10-23 06', 5),\n",
       " ('2012-10-23 00', 5),\n",
       " ('2012-10-22 10', 5),\n",
       " ('2012-10-30 22', 4),\n",
       " ('2012-10-29 18', 4),\n",
       " ('2012-10-29 15', 4),\n",
       " ('2012-10-27 06', 4),\n",
       " ('2012-10-26 06', 4),\n",
       " ('2012-10-26 01', 4),\n",
       " ('2012-10-26 00', 4),\n",
       " ('2012-10-24 02', 4),\n",
       " ('2012-10-22 08', 4),\n",
       " ('2012-10-22 00', 4),\n",
       " ('2012-10-30 23', 3),\n",
       " ('2012-10-30 21', 3),\n",
       " ('2012-10-30 16', 3),\n",
       " ('2012-10-30 14', 3),\n",
       " ('2012-10-30 13', 3),\n",
       " ('2012-10-30 12', 3),\n",
       " ('2012-10-30 11', 3),\n",
       " ('2012-10-29 10', 3),\n",
       " ('2012-10-29 08', 3),\n",
       " ('2012-10-29 07', 3),\n",
       " ('2012-10-29 00', 3),\n",
       " ('2012-10-28 08', 3),\n",
       " ('2012-10-28 05', 3),\n",
       " ('2012-10-27 11', 3),\n",
       " ('2012-10-27 04', 3),\n",
       " ('2012-10-26 03', 3),\n",
       " ('2012-10-25 14', 3),\n",
       " ('2012-10-25 05', 3),\n",
       " ('2012-10-25 04', 3),\n",
       " ('2012-10-25 02', 3),\n",
       " ('2012-10-24 10', 3),\n",
       " ('2012-10-23 16', 3),\n",
       " ('2012-10-23 05', 3),\n",
       " ('2012-10-22 23', 3),\n",
       " ('2012-10-22 19', 3),\n",
       " ('2012-10-22 15', 3),\n",
       " ('2012-10-22 06', 3),\n",
       " ('2012-10-29 17', 2),\n",
       " ('2012-10-29 13', 2),\n",
       " ('2012-10-29 09', 2),\n",
       " ('2012-10-29 04', 2),\n",
       " ('2012-10-28 07', 2),\n",
       " ('2012-10-27 07', 2),\n",
       " ('2012-10-26 16', 2),\n",
       " ('2012-10-26 08', 2),\n",
       " ('2012-10-24 05', 2),\n",
       " ('2012-10-24 03', 2),\n",
       " ('2012-10-24 00', 2),\n",
       " ('2012-10-23 01', 2),\n",
       " ('2012-10-22 05', 2),\n",
       " ('2012-10-30 04', 1),\n",
       " ('2012-10-30 01', 1),\n",
       " ('2012-10-30 00', 1),\n",
       " ('2012-10-29 21', 1),\n",
       " ('2012-10-29 06', 1),\n",
       " ('2012-10-29 05', 1),\n",
       " ('2012-10-29 02', 1),\n",
       " ('2012-10-28 23', 1),\n",
       " ('2012-10-28 06', 1),\n",
       " ('2012-10-26 05', 1),\n",
       " ('2012-10-25 03', 1),\n",
       " ('2012-10-25 01', 1),\n",
       " ('2012-10-24 06', 1),\n",
       " ('2012-10-24 01', 1),\n",
       " ('2012-10-22 03', 1),\n",
       " ('2012-10-22 02', 1),\n",
       " ('2012-10-22 01', 1)]"
      ]
     },
     "execution_count": 73,
     "metadata": {},
     "output_type": "execute_result"
    }
   ],
   "source": [
    "# During Hurricane Sandy in NYC (Oct 29-30, 2012) and the week leading up to it, how many trips were taken each hour, and for each hour, how much precipitation did NYC receive and what was the sustained wind speed?\n",
    "\n",
    "QUERY_6_1 = \"\"\"\n",
    "WITH p AS (SELECT tpep_pickup_datetime, distance\n",
    "            FROM (SELECT tpep_pickup_datetime, distance FROM taxi UNION ALL SELECT tpep_pickup_datetime, distance FROM uber))  \n",
    "\n",
    "\n",
    "\n",
    "SELECT strftime('%Y-%m-%d %H' ,tpep_pickup_datetime) hour, COUNT(tpep_pickup_datetime) \n",
    "FROM p\n",
    "WHERE hour BETWEEN \"2012-10-22 00\" and \"2012-10-30 23\"\n",
    "GROUP BY hour\n",
    "ORDER BY COUNT(hour) DESC\n",
    "\n",
    "\"\"\"\n",
    "\n",
    "db.execute(QUERY_6_1).fetchall()"
   ]
  },
  {
   "cell_type": "code",
   "execution_count": 74,
   "id": "3bc98530",
   "metadata": {},
   "outputs": [
    {
     "data": {
      "text/plain": [
       "[('2012-10-22 02', '0.00', 7.0),\n",
       " ('2012-10-22 03', '0.00', 0.0),\n",
       " ('2012-10-22 04', '0.00', 0.0),\n",
       " ('2012-10-22 05', '0.00', 0.0),\n",
       " ('2012-10-22 06', '0.00', 5.0),\n",
       " ('2012-10-22 08', '0.00', 3.0),\n",
       " ('2012-10-22 12', '0.00', 11.0),\n",
       " ('2012-10-22 17', '0.00', 7.0),\n",
       " ('2012-10-22 21', '0.00', 0.0),\n",
       " ('2012-10-22 22', '0.00', 3.0),\n",
       " ('2012-10-23 20', '0.02', 0.0),\n",
       " ('2012-10-23 22', '0.01', 0.0),\n",
       " ('2012-10-24 00', '0.00', 3.0),\n",
       " ('2012-10-24 02', '0.00', 5.0),\n",
       " ('2012-10-24 03', '0.00', 7.0),\n",
       " ('2012-10-24 10', '0.00', 7.0),\n",
       " ('2012-10-24 11', '0.00', 7.0),\n",
       " ('2012-10-24 13', '0.00', 8.0),\n",
       " ('2012-10-24 14', '0.00', 7.0),\n",
       " ('2012-10-24 15', '0.00', 7.0),\n",
       " ('2012-10-24 16', '0.00', 8.0),\n",
       " ('2012-10-24 18', '0.00', 7.0),\n",
       " ('2012-10-24 19', '0.00', 8.0),\n",
       " ('2012-10-24 21', '0.00', 5.0),\n",
       " ('2012-10-24 22', '0.00', 6.0),\n",
       " ('2012-10-24 23', '0.00', 0.0),\n",
       " ('2012-10-25 01', '0.00', 3.0),\n",
       " ('2012-10-25 02', '0.00', 3.0),\n",
       " ('2012-10-25 03', '0.00', 7.0),\n",
       " ('2012-10-25 04', '0.00', 6.0),\n",
       " ('2012-10-25 05', '0.00', 0.0),\n",
       " ('2012-10-25 06', '0.00', 5.0),\n",
       " ('2012-10-25 07', '0.00', 6.0),\n",
       " ('2012-10-25 09', '0.00', 3.0),\n",
       " ('2012-10-25 10', '0.00', 6.0),\n",
       " ('2012-10-25 11', '0.00', 0.0),\n",
       " ('2012-10-25 13', '0.00', 0.0),\n",
       " ('2012-10-25 14', '0.00', 5.0),\n",
       " ('2012-10-25 16', '0.00', 0.0),\n",
       " ('2012-10-25 18', '0.00', 0.0),\n",
       " ('2012-10-25 19', '0.00', 0.0),\n",
       " ('2012-10-25 21', '0.00', 3.0),\n",
       " ('2012-10-25 23', '0.00', 0.0),\n",
       " ('2012-10-26 00', '0.00', 5.0),\n",
       " ('2012-10-26 01', '0.00', 0.0),\n",
       " ('2012-10-26 02', '0.00', 0.0),\n",
       " ('2012-10-26 03', '0.00', 3.0),\n",
       " ('2012-10-26 04', '0.00', 0.0),\n",
       " ('2012-10-26 05', '0.00', 0.0),\n",
       " ('2012-10-26 06', '0.00', 0.0),\n",
       " ('2012-10-26 07', '0.00', 3.0),\n",
       " ('2012-10-26 08', '0.00', 3.0),\n",
       " ('2012-10-26 09', '0.00', 3.0),\n",
       " ('2012-10-26 11', '0.00', 3.0),\n",
       " ('2012-10-26 12', '0.00', 0.0),\n",
       " ('2012-10-26 15', '0.00', 0.0),\n",
       " ('2012-10-26 16', '0.00', 0.0),\n",
       " ('2012-10-26 17', '0.00', 0.0),\n",
       " ('2012-10-26 18', '0.00', 0.0),\n",
       " ('2012-10-26 19', '0.00', 0.0),\n",
       " ('2012-10-26 21', '0.00', 3.0),\n",
       " ('2012-10-26 22', '0.00', 0.0),\n",
       " ('2012-10-26 23', '0.00', 0.0),\n",
       " ('2012-10-27 00', '0.00', 3.0),\n",
       " ('2012-10-27 01', '0.00', 0.0),\n",
       " ('2012-10-27 02', '0.00', 3.0),\n",
       " ('2012-10-27 03', '0.00', 0.0),\n",
       " ('2012-10-27 04', '0.00', 6.0),\n",
       " ('2012-10-27 05', '0.00', 6.0),\n",
       " ('2012-10-27 07', '0.00', 3.0),\n",
       " ('2012-10-27 08', '0.00', 8.0),\n",
       " ('2012-10-27 09', '0.00', 6.0),\n",
       " ('2012-10-27 10', '0.00', 9.0),\n",
       " ('2012-10-27 12', '0.00', 8.0),\n",
       " ('2012-10-27 13', '0.00', 8.0),\n",
       " ('2012-10-27 14', '0.00', 10.0),\n",
       " ('2012-10-27 15', '0.00', 10.0),\n",
       " ('2012-10-27 17', '0.00', 7.0),\n",
       " ('2012-10-27 19', '0.00', 9.0),\n",
       " ('2012-10-27 21', '0.00', 9.0),\n",
       " ('2012-10-27 22', '0.00', 9.0),\n",
       " ('2012-10-27 23', '0.00', 8.0),\n",
       " ('2012-10-28 00', '0.00', 11.0),\n",
       " ('2012-10-28 02', '0.00', 8.0),\n",
       " ('2012-10-28 03', '0.00', 9.0),\n",
       " ('2012-10-28 06', '0.00', 10.0),\n",
       " ('2012-10-28 07', '0.00', 11.0),\n",
       " ('2012-10-28 08', '0.00', 11.0),\n",
       " ('2012-10-28 09', '0.00', 11.0),\n",
       " ('2012-10-28 10', '0.00', 10.0),\n",
       " ('2012-10-28 11', '0.00', 8.0),\n",
       " ('2012-10-28 13', '0.00', 13.0),\n",
       " ('2012-10-28 14', '0.00', 13.0),\n",
       " ('2012-10-28 15', '0.00', 13.0),\n",
       " ('2012-10-28 16', '0.00', 16.0),\n",
       " ('2012-10-28 20', '0.00', 16.0),\n",
       " ('2012-10-28 22', '0.00', 16.0),\n",
       " ('2012-10-28 23', '0.00', 14.0),\n",
       " ('2012-10-29 00', '0.00', 16.0),\n",
       " ('2012-10-29 07', '0.02', 17.0),\n",
       " ('2012-10-29 09', '0.00', 16.0),\n",
       " ('2012-10-29 14', '0.05', 28.0),\n",
       " ('2012-10-29 15', '0.11', 24.0),\n",
       " ('2012-10-30 03', '0.04', 17.0),\n",
       " ('2012-10-30 23', '0.00', 9.0)]"
      ]
     },
     "execution_count": 74,
     "metadata": {},
     "output_type": "execute_result"
    }
   ],
   "source": [
    "# for each hour, how much precipitation did NYC receive and what was the sustained wind speed?\n",
    "QUERY_6_2 = \"\"\"\n",
    "SELECT strftime('%Y-%m-%d %H',tpep_pickup_datetime) hour, HourlyPrecipitation, HourlyWindSpeed FROM hourly   \n",
    "WHERE hour BETWEEN \"2012-10-22 00\" and \"2012-10-30 23\"\n",
    "\n",
    "\"\"\"\n",
    "\n",
    "db.execute(QUERY_6_2).fetchall()"
   ]
  },
  {
   "cell_type": "code",
   "execution_count": 75,
   "id": "1e4d2671",
   "metadata": {},
   "outputs": [],
   "source": [
    "write_query_to_file(QUERY_6_1, \"hour_rides.sql\")\n",
    "write_query_to_file(QUERY_6_2, \"hour_precipitation_windspeed.sql\")"
   ]
  },
  {
   "cell_type": "markdown",
   "id": "a13ced42",
   "metadata": {},
   "source": [
    "## Part 4: Visualizing the Data\n",
    "\n",
    "_A checklist of requirements to keep you on track. Remove this whole cell before submitting the project. The order of these tasks aren't necessarily the order in which they need to be done. It's okay to do them in an order that makes sense to you._\n",
    "\n",
    "* [ ] Create an appropriate visualization for the first query/question in part 3\n",
    "* [ ] Create a visualization that shows the average distance traveled per month (regardless of year - so group by each month). Include the 90% confidence interval around the mean in the visualization\n",
    "* [ ] Define three lat/long coordinate boxes around the three major New York airports: LGA, JFK, and EWR (you can use bboxfinder to help). Create a visualization that compares what day of the week was most popular for drop offs for each airport.\n",
    "* [ ] Create a heatmap of all hired trips over a map of the area. Consider using KeplerGL or another library that helps generate geospatial visualizations.\n",
    "* [ ] Create a scatter plot that compares tip amount versus distance.\n",
    "* [ ] Create another scatter plot that compares tip amount versus precipitation amount.\n",
    "\n",
    "_Be sure these cells are executed so that the visualizations are rendered when the notebook is submitted._"
   ]
  },
  {
   "cell_type": "markdown",
   "id": "6d9eef42",
   "metadata": {},
   "source": [
    "### Visualization N\n",
    "\n",
    "_**TODO:** Write some prose that tells the reader what you're about to do here._\n",
    "\n",
    "_Repeat for each visualization._\n",
    "\n",
    "_The example below makes use of the `matplotlib` library. There are other libraries, including `pandas` built-in plotting library, kepler for geospatial data representation, `seaborn`, and others._"
   ]
  },
  {
   "cell_type": "markdown",
   "id": "35ca68c0",
   "metadata": {},
   "source": [
    "##### Question 1: Create an appropriate visualization for the first query/question in part 3"
   ]
  },
  {
   "cell_type": "code",
   "execution_count": 76,
   "id": "8c2f223f",
   "metadata": {},
   "outputs": [],
   "source": [
    "#For 01-2009 through 06-2015, what hour of the day was the most popular to take a yellow taxi? The result should have 24 bins. (Visualize)\n",
    "#apply the part 1's query in question 3\n",
    "def plot_visual_1():\n",
    "    result1 = db.execute(QUERY_1).fetchall() #the tuple containing the hour and number of rides\n",
    "\n",
    "    hours = [ele[0] for ele in result1]\n",
    "    rides = [ele[1] for ele in result1]\n",
    "    fig, ax = matplotlib.pyplot.subplots()\n",
    "    ax.set_title('number of rides per hour')\n",
    "    ax.set_xlabel('hour')\n",
    "    ax.set_ylabel('rides number')\n",
    "    ax.bar(hours,rides) \n",
    "\n"
   ]
  },
  {
   "cell_type": "code",
   "execution_count": 77,
   "id": "aa1e569f",
   "metadata": {},
   "outputs": [
    {
     "data": {
      "image/png": "[encoded data removed]",
      "text/plain": [
       "<Figure size 432x288 with 1 Axes>"
      ]
     },
     "metadata": {
      "needs_background": "light"
     },
     "output_type": "display_data"
    }
   ],
   "source": [
    "#call the function\n",
    "plot_visual_1()"
   ]
  },
  {
   "cell_type": "markdown",
   "id": "402ccabe",
   "metadata": {},
   "source": [
    "##### Question 2: Create a visualization that shows the average distance traveled per month (regardless of year - so group by each month). Include the 90% confidence interval around the mean in the visualization"
   ]
  },
  {
   "cell_type": "code",
   "execution_count": 78,
   "id": "50080b41",
   "metadata": {},
   "outputs": [],
   "source": [
    "def get_data_for_visual_2():\n",
    "    # Query SQL database for the data needed.\n",
    "    # You can put the data queried into a pandas dataframe, if you wish\n",
    "    QUERY_2 = \"\"\"\n",
    "    WITH p AS (SELECT tpep_pickup_datetime, distance\n",
    "    FROM (SELECT tpep_pickup_datetime, distance FROM taxi UNION ALL SELECT tpep_pickup_datetime, distance FROM uber))\n",
    "\n",
    "    SELECT strftime('%m',tpep_pickup_datetime) month, distance\n",
    "    FROM p\n",
    "    \"\"\"\n",
    "\n",
    "    a=db.execute(QUERY_2).fetchall()\n",
    "\n",
    "    \n",
    "    packs= pd.DataFrame(data = a)\n",
    "\n",
    "    packs_des=packs.groupby('month').describe()\n",
    "\n",
    "    packs_des['distance, 90upper']=packs_des.iloc[:,1]+ packs_des.iloc[:,2]/math.sqrt(sum(packs_des.iloc[:,0]))\n",
    "\n",
    "    packs_des['distance, 90lower']=packs_des.iloc[:,1]- packs_des.iloc[:,2]/math.sqrt(sum(packs_des.iloc[:,0]))\n",
    "\n",
    "    return packs_des"
   ]
  },
  {
   "cell_type": "code",
   "execution_count": 79,
   "id": "6f93d0da",
   "metadata": {},
   "outputs": [],
   "source": [
    "def plot_visual_2(dataframe):\n",
    "    figure, axes = plt.subplots(figsize=(20, 10))\n",
    "    \n",
    "    # values = dataframe['month','AVG(distance)'] # use the dataframe to pull out values needed to plot\n",
    "    \n",
    "    # you may want to use matplotlib to plot your visualizations;\n",
    "    # there are also many other plot types (other \n",
    "    # than axes.plot) you can use\n",
    "    plt.plot(dataframe.index,dataframe.iloc[:,1],c=\"r\")\n",
    "    plt.fill_between(dataframe.index, y1=dataframe['distance, 90lower'], y2=dataframe['distance, 90upper'],interpolate=True)\n",
    "    \n",
    "\n",
    "    plt.show()"
   ]
  },
  {
   "cell_type": "code",
   "execution_count": 80,
   "id": "c3e22956",
   "metadata": {},
   "outputs": [
    {
     "data": {
      "image/png": "[encoded data removed]",
      "text/plain": [
       "<Figure size 1440x720 with 1 Axes>"
      ]
     },
     "metadata": {
      "needs_background": "light"
     },
     "output_type": "display_data"
    }
   ],
   "source": [
    "plot_visual_2(get_data_for_visual_2())"
   ]
  },
  {
   "cell_type": "markdown",
   "id": "cc3a0eb5",
   "metadata": {},
   "source": [
    "##### Question 3: Define three lat/long coordinate boxes around the three major New York airports: LGA, JFK, and EWR (you can use bboxfinder to help). Create a visualization that compares what day of the week was most popular for drop offs for each airport."
   ]
  },
  {
   "cell_type": "code",
   "execution_count": 81,
   "id": "4db792e8",
   "metadata": {},
   "outputs": [],
   "source": [
    "def get_data_for_visual_3():\n",
    "    #Define three lat/long coordinate boxes around the three major New York airports: LGA, JFK, and EWR (you can use bboxfinder to help). Create a visualization that compares what day of the week was most popular for drop offs for each airport.\n",
    "    QUERY_3 = \"\"\"\n",
    "    WITH p AS (SELECT tpep_pickup_datetime, pick_lon, pick_lat, drop_lon, drop_lat\n",
    "    FROM (SELECT tpep_pickup_datetime, pick_lon, pick_lat, drop_lon, drop_lat FROM taxi UNION ALL SELECT tpep_pickup_datetime, pick_lon, pick_lat, drop_lon, drop_lat FROM uber))\n",
    "\n",
    "    SELECT strftime('%Y-%m-%d',tpep_pickup_datetime) sevenday, pick_lon, pick_lat, drop_lon, drop_lat\n",
    "    FROM p\n",
    "    \"\"\"\n",
    "\n",
    "    a=db.execute(QUERY_3).fetchall()\n",
    "   \n",
    "    packs= pd.DataFrame(data = a)\n",
    "\n",
    "    packs['sevenday']=pd.to_datetime(packs['sevenday'])\n",
    "    packs['sevenday']=packs['sevenday'].dt.dayofweek\n",
    "    \n",
    "    def sevenday(x):\n",
    "        if x==0:\n",
    "            return 'Monday'\n",
    "        elif x==1:\n",
    "            return 'Tuesday'\n",
    "        elif x==2:\n",
    "            return 'Wednsday' \n",
    "        elif x==3:\n",
    "            return 'Thursday'\n",
    "        elif x==4:\n",
    "            return 'Friday'\n",
    "        elif x==5:\n",
    "            return 'Saturday'\n",
    "        elif x==6:\n",
    "            return 'Sunday'\n",
    "    \n",
    "    packs['sevenday']=packs['sevenday'].apply(lambda x: sevenday(x))\n",
    "\n",
    "    \n",
    "    packs['drop_place']='Others'\n",
    "    \n",
    "    packs['drop_place'][(packs['drop_lon']<-73.872)&(packs['drop_lon']>-73.875)&(packs['drop_lat']<40.778)&(packs['drop_lat']>40.774)]='LGA'\n",
    "    packs['drop_place'][(packs['drop_lon']<-73.77)&(packs['drop_lon']>-73.79)&(packs['drop_lat']<40.65)&(packs['drop_lat']>40.63)]='JFK'\n",
    "    packs['drop_place'][(packs['drop_lon']<-74.15)&(packs['drop_lon']>-74.19)&(packs['drop_lat']<40.73)&(packs['drop_lat']>40.66)]='EWR'\n",
    "\n",
    "\n",
    "    return packs"
   ]
  },
  {
   "cell_type": "code",
   "execution_count": 82,
   "id": "633ebbb8",
   "metadata": {},
   "outputs": [],
   "source": [
    "def plot_visual_3(dataframe):\n",
    "    figure, axes = plt.subplots(figsize=(20, 10))\n",
    "    \n",
    "    # values = dataframe['month','AVG(distance)'] # use the dataframe to pull out values needed to plot\n",
    "    \n",
    "    # you may want to use matplotlib to plot your visualizations;\n",
    "    # there are also many other plot types (other \n",
    "    # than axes.plot) you can use\n",
    " \n",
    "    list_Monday = [dataframe.groupby(['drop_place','sevenday']).count()['pick_lon'][0:7].sort_index(ascending=False)[5], dataframe.groupby(['drop_place','sevenday']).count()['pick_lon'][7:14].sort_index(ascending=False)[5], dataframe.groupby(['drop_place','sevenday']).count()['pick_lon'][14:21].sort_index(ascending=False)[5]]\n",
    "    list_Tuesday = [dataframe.groupby(['drop_place','sevenday']).count()['pick_lon'][0:7].sort_index(ascending=False)[1], dataframe.groupby(['drop_place','sevenday']).count()['pick_lon'][7:14].sort_index(ascending=False)[1], dataframe.groupby(['drop_place','sevenday']).count()['pick_lon'][14:21].sort_index(ascending=False)[1]]\n",
    "    list_Wednsday = [dataframe.groupby(['drop_place','sevenday']).count()['pick_lon'][0:7].sort_index(ascending=False)[0], dataframe.groupby(['drop_place','sevenday']).count()['pick_lon'][7:14].sort_index(ascending=False)[0], dataframe.groupby(['drop_place','sevenday']).count()['pick_lon'][14:21].sort_index(ascending=False)[0]]\n",
    "    list_Thursday =[dataframe.groupby(['drop_place','sevenday']).count()['pick_lon'][0:7].sort_index(ascending=False)[2],dataframe.groupby(['drop_place','sevenday']).count()['pick_lon'][7:14].sort_index(ascending=False)[2], dataframe.groupby(['drop_place','sevenday']).count()['pick_lon'][14:21].sort_index(ascending=False)[2]]\n",
    "    list_Friday = [dataframe.groupby(['drop_place','sevenday']).count()['pick_lon'][0:7].sort_index(ascending=False)[6], dataframe.groupby(['drop_place','sevenday']).count()['pick_lon'][7:14].sort_index(ascending=False)[6], dataframe.groupby(['drop_place','sevenday']).count()['pick_lon'][14:21].sort_index(ascending=False)[6]]\n",
    "    list_Saturday = [dataframe.groupby(['drop_place','sevenday']).count()['pick_lon'][0:7].sort_index(ascending=False)[4], dataframe.groupby(['drop_place','sevenday']).count()['pick_lon'][7:14].sort_index(ascending=False)[4], dataframe.groupby(['drop_place','sevenday']).count()['pick_lon'][14:21].sort_index(ascending=False)[4]]\n",
    "    list_Sunday = [dataframe.groupby(['drop_place','sevenday']).count()['pick_lon'][0:7].sort_index(ascending=False)[3], dataframe.groupby(['drop_place','sevenday']).count()['pick_lon'][7:14].sort_index(ascending=False)[3], dataframe.groupby(['drop_place','sevenday']).count()['pick_lon'][14:21].sort_index(ascending=False)[3]]\n",
    "    \n",
    "    name_list = ['LGA', 'JFK', 'EWR']\n",
    "    x = list(range(len(name_list)))\n",
    "    total_width, n = 0.8,7\n",
    "    width = total_width / n\n",
    "    plt.bar(x, list_Monday, width=width, label='Monday', tick_label=name_list, fc='y')\n",
    "    for i in range(len(x)):\n",
    "\t    x[i] = x[i] + width\n",
    "    plt.bar(x, list_Tuesday, width=width, label='Tuesday', fc='r')\n",
    "    for i in range(len(x)):\n",
    "\t    x[i] = x[i] + width\n",
    "    plt.bar(x, list_Wednsday, width=width, label='Wednsday', fc='b')\n",
    "    for i in range(len(x)):\n",
    "\t    x[i] = x[i] + width\n",
    "    plt.bar(x, list_Thursday, width=width, label='Thurday', fc='g')\n",
    "    for i in range(len(x)):\n",
    "\t    x[i] = x[i] + width\n",
    "\n",
    "    plt.bar(x, list_Friday, width=width, label='Friday', fc='y')\n",
    "    for i in range(len(x)):\n",
    "\t    x[i] = x[i] + width\n",
    "\n",
    "    plt.bar(x, list_Saturday, width=width, label='Saturday', fc='r')\n",
    "    for i in range(len(x)):\n",
    "\t    x[i] = x[i] + width\n",
    "    \n",
    "    plt.bar(x, list_Sunday, width=width, label='Sunday', fc='b')\n",
    "    for i in range(len(x)):\n",
    "\t    x[i] = x[i] + width\n",
    "    \n",
    "    \n",
    "    \n",
    "    plt.legend()\n",
    "    plt.show()"
   ]
  },
  {
   "cell_type": "code",
   "execution_count": 83,
   "id": "f7abf5dd",
   "metadata": {},
   "outputs": [
    {
     "data": {
      "image/png": "[encoded data removed]",
      "text/plain": [
       "<Figure size 1440x720 with 1 Axes>"
      ]
     },
     "metadata": {
      "needs_background": "light"
     },
     "output_type": "display_data"
    }
   ],
   "source": [
    "plot_visual_3(get_data_for_visual_3())"
   ]
  },
  {
   "cell_type": "markdown",
   "id": "d35c32e6",
   "metadata": {},
   "source": [
    "##### Question 4: Create a heatmap of all hired trips over a map of the area. Consider using KeplerGL or another library that helps generate geospatial visualizations."
   ]
  },
  {
   "cell_type": "code",
   "execution_count": 84,
   "id": "0f42537e",
   "metadata": {},
   "outputs": [],
   "source": [
    "def get_data_for_visual_4():\n",
    "    # Query SQL database for the data needed.\n",
    "    # You can put the data queried into a pandas dataframe, if you wish\n",
    "    QUERY_4 = \"\"\"\n",
    "    WITH p AS (SELECT tpep_pickup_datetime, pick_lon, pick_lat, drop_lon, drop_lat\n",
    "    FROM (SELECT tpep_pickup_datetime, pick_lon, pick_lat, drop_lon, drop_lat FROM taxi UNION ALL SELECT tpep_pickup_datetime, pick_lon, pick_lat, drop_lon, drop_lat FROM uber))\n",
    "\n",
    "    SELECT pick_lon AS Longitude, pick_lat AS Latitude\n",
    "    FROM p\n",
    "    \"\"\"\n",
    "    QUERY_5 = \"\"\"\n",
    "    WITH p AS (SELECT tpep_pickup_datetime, pick_lon, pick_lat, drop_lon, drop_lat\n",
    "    FROM (SELECT tpep_pickup_datetime, pick_lon, pick_lat, drop_lon, drop_lat FROM taxi UNION ALL SELECT tpep_pickup_datetime, pick_lon, pick_lat, drop_lon, drop_lat FROM uber))\n",
    "\n",
    "    SELECT drop_lon AS Longitude, drop_lat AS Latitude\n",
    "    FROM p\n",
    "    \"\"\"\n",
    "    a=db.execute(QUERY_4).fetchall()\n",
    "    b=db.execute(QUERY_5).fetchall()\n",
    "    packs= pd.DataFrame(data = a)\n",
    "    packs2=pd.DataFrame(data = b)\n",
    "\n",
    "    packs3=pd.concat([packs,packs2])\n",
    "    packs3=packs3.reset_index(drop=True)\n",
    "    return packs3"
   ]
  },
  {
   "cell_type": "code",
   "execution_count": 85,
   "id": "080b9044",
   "metadata": {},
   "outputs": [],
   "source": [
    "def plot_visual_4(dataframe):\n",
    "    \n",
    "    w1 = keplergl.KeplerGl(height=600, data={'data_1': dataframe})\n",
    "\n",
    "    \n",
    "    return w1"
   ]
  },
  {
   "cell_type": "code",
   "execution_count": 86,
   "id": "ccfb347f",
   "metadata": {},
   "outputs": [
    {
     "name": "stdout",
     "output_type": "stream",
     "text": [
      "User Guide: https://docs.kepler.gl/docs/keplergl-jupyter\n"
     ]
    },
    {
     "data": {
      "application/vnd.jupyter.widget-view+json": {
       "model_id": "f5440d768cbd4b7193c43fc44d44e34f",
       "version_major": 2,
       "version_minor": 0
      },
      "text/plain": [
       "KeplerGl(data={'data_1':         Longitude   Latitude\n",
       "0      -73.949903  40.780362\n",
       "1      -73.979190  40.76202…"
      ]
     },
     "metadata": {},
     "output_type": "display_data"
    }
   ],
   "source": [
    "plot_visual_4(get_data_for_visual_4())"
   ]
  },
  {
   "cell_type": "markdown",
   "id": "1629b4e9",
   "metadata": {},
   "source": [
    "##### Question 5: Create a scatter plot that compares tip amount versus distance."
   ]
  },
  {
   "cell_type": "code",
   "execution_count": null,
   "id": "fa86e347",
   "metadata": {},
   "outputs": [],
   "source": [
    "\n",
    "def plot_visual_5():\n",
    "    #within the query below, outliers (like more than 40 tips has been eliminated to better indicate the correlation between distance and tips)\n",
    "    QUERY = \"\"\"\n",
    "    SELECT distance, tip_amount FROM taxi where tip_amount < 40 \n",
    "    \"\"\"\n",
    "    result5 = db.execute(QUERY).fetchall() #the tuple containing the hour and number of rides\n",
    "\n",
    "    distance = [ele[0] for ele in result5]\n",
    "    tip = [ele[1] for ele in result5]\n",
    "    fig, ax = matplotlib.pyplot.subplots()\n",
    "    ax.set_title('Scatter plot of distance and tips')\n",
    "    ax.set_xlabel('distance')\n",
    "    ax.set_ylabel('tip')\n",
    "    ax.scatter(distance,tip) \n",
    "\n",
    "\n",
    "\n"
   ]
  },
  {
   "cell_type": "code",
   "execution_count": null,
   "id": "274cf59b",
   "metadata": {},
   "outputs": [
    {
     "data": {
      "image/png": "[encoded data removed]",
      "text/plain": [
       "<Figure size 640x480 with 1 Axes>"
      ]
     },
     "metadata": {},
     "output_type": "display_data"
    }
   ],
   "source": [
    "plot_visual_5()"
   ]
  },
  {
   "cell_type": "markdown",
   "id": "6396b3b7",
   "metadata": {},
   "source": [
    "##### Question 6: Create another scatter plot that compares tip amount versus precipitation amount for Yellow Taxi rides. You may remove any outliers how you see fit.\n"
   ]
  },
  {
   "cell_type": "code",
   "execution_count": null,
   "id": "d14b6f34",
   "metadata": {},
   "outputs": [],
   "source": [
    "def plot_visual_6(taxi_data, hourly_weather_data):\n",
    "    hourly_weather_data['hour'] = hourly_weather_data['tpep_pickup_datetime'].apply(lambda x:datetime.datetime.strptime(x,'%Y-%m-%d %H:%M:%S')).dt.to_period('H')\n",
    "    taxi_data['hour'] = taxi_data['tpep_pickup_datetime'].apply(lambda x:datetime.datetime.strptime(x,'%Y-%m-%d %H:%M:%S')).dt.to_period('H')\n",
    "    taxi_data = taxi_data[taxi_data['tip_amount'] <= 30] #removing outliers\n",
    "    tip_preciption = pd.merge(hourly_weather_data[['hour', 'HourlyPrecipitation']], taxi_data[['hour', 'tip_amount']], how = 'inner', on = 'hour')\n",
    "    fig, ax = matplotlib.pyplot.subplots()\n",
    "    ax.set_title('Scatter plot of preciption and tips')\n",
    "    ax.set_xlabel('preciption')\n",
    "    ax.set_ylabel('tip')\n",
    "    ax.scatter(tip_preciption['HourlyPrecipitation'],tip_preciption['tip_amount']) \n"
   ]
  },
  {
   "cell_type": "code",
   "execution_count": null,
   "id": "62d550ca",
   "metadata": {},
   "outputs": [
    {
     "data": {
      "image/png": "[encoded data removed]",
      "text/plain": [
       "<Figure size 640x480 with 1 Axes>"
      ]
     },
     "metadata": {},
     "output_type": "display_data"
    }
   ],
   "source": [
    "plot_visual_6(taxi_data, hourly_weather_data)"
   ]
  },
  {
   "cell_type": "markdown",
   "id": "5713a2db",
   "metadata": {},
   "source": [
    "##### Bonus 1: add animation to ploting (question 1 in part 4)"
   ]
  },
  {
   "cell_type": "code",
   "execution_count": null,
   "id": "6c97d6d4",
   "metadata": {},
   "outputs": [],
   "source": [
    "#For 01-2009 through 06-2015, what hour of the day was the most popular to take a yellow taxi? The result should have 24 bins. (Visualize)\n",
    "#apply the part 1's query in question 3\n",
    "def plot_visual_1():\n",
    "    result1 = db.execute(QUERY_1).fetchall() #the tuple containing the hour and number of rides\n",
    "\n",
    "    hours = [ele[0] for ele in result1]\n",
    "    rides = [ele[1] for ele in result1]\n",
    "    fig, ax = matplotlib.pyplot.subplots()\n",
    "    ax.set_title('number of rides per hour')\n",
    "    ax.set_xlabel('hour')\n",
    "    ax.set_ylabel('rides number')\n",
    "    ax.bar(hours,rides) "
   ]
  },
  {
   "cell_type": "code",
   "execution_count": null,
   "id": "cc259b23",
   "metadata": {},
   "outputs": [
    {
     "ename": "ImportError",
     "evalue": "Failed to import any of the following Qt binding modules: PyQt6, PySide6, PyQt5, PySide2",
     "output_type": "error",
     "traceback": [
      "\u001b[1;31m---------------------------------------------------------------------------\u001b[0m",
      "\u001b[1;31mImportError\u001b[0m                               Traceback (most recent call last)",
      "Cell \u001b[1;32mIn [53], line 5\u001b[0m\n\u001b[0;32m      3\u001b[0m \u001b[39mfrom\u001b[39;00m \u001b[39mmatplotlib\u001b[39;00m\u001b[39m.\u001b[39;00m\u001b[39manimation\u001b[39;00m \u001b[39mimport\u001b[39;00m FuncAnimation\n\u001b[0;32m      4\u001b[0m \u001b[39mimport\u001b[39;00m \u001b[39mseaborn\u001b[39;00m \u001b[39mas\u001b[39;00m \u001b[39msns\u001b[39;00m\n\u001b[1;32m----> 5\u001b[0m get_ipython()\u001b[39m.\u001b[39;49mrun_line_magic(\u001b[39m'\u001b[39;49m\u001b[39mmatplotlib\u001b[39;49m\u001b[39m'\u001b[39;49m, \u001b[39m'\u001b[39;49m\u001b[39mqt\u001b[39;49m\u001b[39m'\u001b[39;49m)\n\u001b[0;32m      6\u001b[0m fig \u001b[39m=\u001b[39m plt\u001b[39m.\u001b[39mfigure(figsize\u001b[39m=\u001b[39m(\u001b[39m8\u001b[39m,\u001b[39m6\u001b[39m))\n\u001b[0;32m      7\u001b[0m axes \u001b[39m=\u001b[39m fig\u001b[39m.\u001b[39madd_subplot(\u001b[39m1\u001b[39m,\u001b[39m1\u001b[39m,\u001b[39m1\u001b[39m)\n",
      "File \u001b[1;32m~\\AppData\\Roaming\\Python\\Python310\\site-packages\\IPython\\core\\interactiveshell.py:2364\u001b[0m, in \u001b[0;36mInteractiveShell.run_line_magic\u001b[1;34m(self, magic_name, line, _stack_depth)\u001b[0m\n\u001b[0;32m   2362\u001b[0m     kwargs[\u001b[39m'\u001b[39m\u001b[39mlocal_ns\u001b[39m\u001b[39m'\u001b[39m] \u001b[39m=\u001b[39m \u001b[39mself\u001b[39m\u001b[39m.\u001b[39mget_local_scope(stack_depth)\n\u001b[0;32m   2363\u001b[0m \u001b[39mwith\u001b[39;00m \u001b[39mself\u001b[39m\u001b[39m.\u001b[39mbuiltin_trap:\n\u001b[1;32m-> 2364\u001b[0m     result \u001b[39m=\u001b[39m fn(\u001b[39m*\u001b[39margs, \u001b[39m*\u001b[39m\u001b[39m*\u001b[39mkwargs)\n\u001b[0;32m   2365\u001b[0m \u001b[39mreturn\u001b[39;00m result\n",
      "File \u001b[1;32m~\\AppData\\Roaming\\Python\\Python310\\site-packages\\IPython\\core\\magics\\pylab.py:99\u001b[0m, in \u001b[0;36mPylabMagics.matplotlib\u001b[1;34m(self, line)\u001b[0m\n\u001b[0;32m     97\u001b[0m     \u001b[39mprint\u001b[39m(\u001b[39m\"\u001b[39m\u001b[39mAvailable matplotlib backends: \u001b[39m\u001b[39m%s\u001b[39;00m\u001b[39m\"\u001b[39m \u001b[39m%\u001b[39m backends_list)\n\u001b[0;32m     98\u001b[0m \u001b[39melse\u001b[39;00m:\n\u001b[1;32m---> 99\u001b[0m     gui, backend \u001b[39m=\u001b[39m \u001b[39mself\u001b[39;49m\u001b[39m.\u001b[39;49mshell\u001b[39m.\u001b[39;49menable_matplotlib(args\u001b[39m.\u001b[39;49mgui\u001b[39m.\u001b[39;49mlower() \u001b[39mif\u001b[39;49;00m \u001b[39misinstance\u001b[39;49m(args\u001b[39m.\u001b[39;49mgui, \u001b[39mstr\u001b[39;49m) \u001b[39melse\u001b[39;49;00m args\u001b[39m.\u001b[39;49mgui)\n\u001b[0;32m    100\u001b[0m     \u001b[39mself\u001b[39m\u001b[39m.\u001b[39m_show_matplotlib_backend(args\u001b[39m.\u001b[39mgui, backend)\n",
      "File \u001b[1;32m~\\AppData\\Roaming\\Python\\Python310\\site-packages\\IPython\\core\\interactiveshell.py:3528\u001b[0m, in \u001b[0;36mInteractiveShell.enable_matplotlib\u001b[1;34m(self, gui)\u001b[0m\n\u001b[0;32m   3524\u001b[0m         \u001b[39mprint\u001b[39m(\u001b[39m'\u001b[39m\u001b[39mWarning: Cannot change to a different GUI toolkit: \u001b[39m\u001b[39m%s\u001b[39;00m\u001b[39m.\u001b[39m\u001b[39m'\u001b[39m\n\u001b[0;32m   3525\u001b[0m                 \u001b[39m'\u001b[39m\u001b[39m Using \u001b[39m\u001b[39m%s\u001b[39;00m\u001b[39m instead.\u001b[39m\u001b[39m'\u001b[39m \u001b[39m%\u001b[39m (gui, \u001b[39mself\u001b[39m\u001b[39m.\u001b[39mpylab_gui_select))\n\u001b[0;32m   3526\u001b[0m         gui, backend \u001b[39m=\u001b[39m pt\u001b[39m.\u001b[39mfind_gui_and_backend(\u001b[39mself\u001b[39m\u001b[39m.\u001b[39mpylab_gui_select)\n\u001b[1;32m-> 3528\u001b[0m pt\u001b[39m.\u001b[39;49mactivate_matplotlib(backend)\n\u001b[0;32m   3529\u001b[0m configure_inline_support(\u001b[39mself\u001b[39m, backend)\n\u001b[0;32m   3531\u001b[0m \u001b[39m# Now we must activate the gui pylab wants to use, and fix %run to take\u001b[39;00m\n\u001b[0;32m   3532\u001b[0m \u001b[39m# plot updates into account\u001b[39;00m\n",
      "File \u001b[1;32m~\\AppData\\Roaming\\Python\\Python310\\site-packages\\IPython\\core\\pylabtools.py:360\u001b[0m, in \u001b[0;36mactivate_matplotlib\u001b[1;34m(backend)\u001b[0m\n\u001b[0;32m    355\u001b[0m \u001b[39m# Due to circular imports, pyplot may be only partially initialised\u001b[39;00m\n\u001b[0;32m    356\u001b[0m \u001b[39m# when this function runs.\u001b[39;00m\n\u001b[0;32m    357\u001b[0m \u001b[39m# So avoid needing matplotlib attribute-lookup to access pyplot.\u001b[39;00m\n\u001b[0;32m    358\u001b[0m \u001b[39mfrom\u001b[39;00m \u001b[39mmatplotlib\u001b[39;00m \u001b[39mimport\u001b[39;00m pyplot \u001b[39mas\u001b[39;00m plt\n\u001b[1;32m--> 360\u001b[0m plt\u001b[39m.\u001b[39;49mswitch_backend(backend)\n\u001b[0;32m    362\u001b[0m plt\u001b[39m.\u001b[39mshow\u001b[39m.\u001b[39m_needmain \u001b[39m=\u001b[39m \u001b[39mFalse\u001b[39;00m\n\u001b[0;32m    363\u001b[0m \u001b[39m# We need to detect at runtime whether show() is called by the user.\u001b[39;00m\n\u001b[0;32m    364\u001b[0m \u001b[39m# For this, we wrap it into a decorator which adds a 'called' flag.\u001b[39;00m\n",
      "File \u001b[1;32mc:\\Users\\jiashaoxiong\\AppData\\Local\\Programs\\Python\\Python310\\lib\\site-packages\\matplotlib\\pyplot.py:265\u001b[0m, in \u001b[0;36mswitch_backend\u001b[1;34m(newbackend)\u001b[0m\n\u001b[0;32m    262\u001b[0m         rcParamsOrig[\u001b[39m\"\u001b[39m\u001b[39mbackend\u001b[39m\u001b[39m\"\u001b[39m] \u001b[39m=\u001b[39m \u001b[39m\"\u001b[39m\u001b[39magg\u001b[39m\u001b[39m\"\u001b[39m\n\u001b[0;32m    263\u001b[0m         \u001b[39mreturn\u001b[39;00m\n\u001b[1;32m--> 265\u001b[0m backend_mod \u001b[39m=\u001b[39m importlib\u001b[39m.\u001b[39;49mimport_module(\n\u001b[0;32m    266\u001b[0m     cbook\u001b[39m.\u001b[39;49m_backend_module_name(newbackend))\n\u001b[0;32m    268\u001b[0m required_framework \u001b[39m=\u001b[39m _get_required_interactive_framework(backend_mod)\n\u001b[0;32m    269\u001b[0m \u001b[39mif\u001b[39;00m required_framework \u001b[39mis\u001b[39;00m \u001b[39mnot\u001b[39;00m \u001b[39mNone\u001b[39;00m:\n",
      "File \u001b[1;32mc:\\Users\\jiashaoxiong\\AppData\\Local\\Programs\\Python\\Python310\\lib\\importlib\\__init__.py:126\u001b[0m, in \u001b[0;36mimport_module\u001b[1;34m(name, package)\u001b[0m\n\u001b[0;32m    124\u001b[0m             \u001b[39mbreak\u001b[39;00m\n\u001b[0;32m    125\u001b[0m         level \u001b[39m+\u001b[39m\u001b[39m=\u001b[39m \u001b[39m1\u001b[39m\n\u001b[1;32m--> 126\u001b[0m \u001b[39mreturn\u001b[39;00m _bootstrap\u001b[39m.\u001b[39;49m_gcd_import(name[level:], package, level)\n",
      "File \u001b[1;32m<frozen importlib._bootstrap>:1050\u001b[0m, in \u001b[0;36m_gcd_import\u001b[1;34m(name, package, level)\u001b[0m\n",
      "File \u001b[1;32m<frozen importlib._bootstrap>:1027\u001b[0m, in \u001b[0;36m_find_and_load\u001b[1;34m(name, import_)\u001b[0m\n",
      "File \u001b[1;32m<frozen importlib._bootstrap>:1006\u001b[0m, in \u001b[0;36m_find_and_load_unlocked\u001b[1;34m(name, import_)\u001b[0m\n",
      "File \u001b[1;32m<frozen importlib._bootstrap>:688\u001b[0m, in \u001b[0;36m_load_unlocked\u001b[1;34m(spec)\u001b[0m\n",
      "File \u001b[1;32m<frozen importlib._bootstrap_external>:883\u001b[0m, in \u001b[0;36mexec_module\u001b[1;34m(self, module)\u001b[0m\n",
      "File \u001b[1;32m<frozen importlib._bootstrap>:241\u001b[0m, in \u001b[0;36m_call_with_frames_removed\u001b[1;34m(f, *args, **kwds)\u001b[0m\n",
      "File \u001b[1;32mc:\\Users\\jiashaoxiong\\AppData\\Local\\Programs\\Python\\Python310\\lib\\site-packages\\matplotlib\\backends\\backend_qt5agg.py:7\u001b[0m\n\u001b[0;32m      4\u001b[0m \u001b[39mfrom\u001b[39;00m \u001b[39m.\u001b[39;00m\u001b[39m.\u001b[39;00m \u001b[39mimport\u001b[39;00m backends\n\u001b[0;32m      6\u001b[0m backends\u001b[39m.\u001b[39m_QT_FORCE_QT5_BINDING \u001b[39m=\u001b[39m \u001b[39mTrue\u001b[39;00m\n\u001b[1;32m----> 7\u001b[0m \u001b[39mfrom\u001b[39;00m \u001b[39m.\u001b[39;00m\u001b[39mbackend_qtagg\u001b[39;00m \u001b[39mimport\u001b[39;00m (    \u001b[39m# noqa: F401, E402 # pylint: disable=W0611\u001b[39;00m\n\u001b[0;32m      8\u001b[0m     _BackendQTAgg, FigureCanvasQTAgg, FigureManagerQT, NavigationToolbar2QT,\n\u001b[0;32m      9\u001b[0m     FigureCanvasAgg, FigureCanvasQT)\n\u001b[0;32m     12\u001b[0m \u001b[39m@_BackendQTAgg\u001b[39m\u001b[39m.\u001b[39mexport\n\u001b[0;32m     13\u001b[0m \u001b[39mclass\u001b[39;00m \u001b[39m_BackendQT5Agg\u001b[39;00m(_BackendQTAgg):\n\u001b[0;32m     14\u001b[0m     \u001b[39mpass\u001b[39;00m\n",
      "File \u001b[1;32mc:\\Users\\jiashaoxiong\\AppData\\Local\\Programs\\Python\\Python310\\lib\\site-packages\\matplotlib\\backends\\backend_qtagg.py:9\u001b[0m\n\u001b[0;32m      5\u001b[0m \u001b[39mimport\u001b[39;00m \u001b[39mctypes\u001b[39;00m\n\u001b[0;32m      7\u001b[0m \u001b[39mfrom\u001b[39;00m \u001b[39mmatplotlib\u001b[39;00m\u001b[39m.\u001b[39;00m\u001b[39mtransforms\u001b[39;00m \u001b[39mimport\u001b[39;00m Bbox\n\u001b[1;32m----> 9\u001b[0m \u001b[39mfrom\u001b[39;00m \u001b[39m.\u001b[39;00m\u001b[39mqt_compat\u001b[39;00m \u001b[39mimport\u001b[39;00m QT_API, _enum, _setDevicePixelRatio\n\u001b[0;32m     10\u001b[0m \u001b[39mfrom\u001b[39;00m \u001b[39m.\u001b[39;00m\u001b[39m.\u001b[39;00m \u001b[39mimport\u001b[39;00m cbook\n\u001b[0;32m     11\u001b[0m \u001b[39mfrom\u001b[39;00m \u001b[39m.\u001b[39;00m\u001b[39mbackend_agg\u001b[39;00m \u001b[39mimport\u001b[39;00m FigureCanvasAgg\n",
      "File \u001b[1;32mc:\\Users\\jiashaoxiong\\AppData\\Local\\Programs\\Python\\Python310\\lib\\site-packages\\matplotlib\\backends\\qt_compat.py:137\u001b[0m\n\u001b[0;32m    135\u001b[0m         \u001b[39mbreak\u001b[39;00m\n\u001b[0;32m    136\u001b[0m     \u001b[39melse\u001b[39;00m:\n\u001b[1;32m--> 137\u001b[0m         \u001b[39mraise\u001b[39;00m \u001b[39mImportError\u001b[39;00m(\n\u001b[0;32m    138\u001b[0m             \u001b[39m\"\u001b[39m\u001b[39mFailed to import any of the following Qt binding modules: \u001b[39m\u001b[39m{}\u001b[39;00m\u001b[39m\"\u001b[39m\n\u001b[0;32m    139\u001b[0m             \u001b[39m.\u001b[39mformat(\u001b[39m\"\u001b[39m\u001b[39m, \u001b[39m\u001b[39m\"\u001b[39m\u001b[39m.\u001b[39mjoin(_ETS\u001b[39m.\u001b[39mvalues())))\n\u001b[0;32m    140\u001b[0m \u001b[39melse\u001b[39;00m:  \u001b[39m# We should not get there.\u001b[39;00m\n\u001b[0;32m    141\u001b[0m     \u001b[39mraise\u001b[39;00m \u001b[39mAssertionError\u001b[39;00m(\u001b[39mf\u001b[39m\u001b[39m\"\u001b[39m\u001b[39mUnexpected QT_API: \u001b[39m\u001b[39m{\u001b[39;00mQT_API\u001b[39m}\u001b[39;00m\u001b[39m\"\u001b[39m)\n",
      "\u001b[1;31mImportError\u001b[0m: Failed to import any of the following Qt binding modules: PyQt6, PySide6, PyQt5, PySide2"
     ]
    }
   ],
   "source": [
    "from matplotlib import animation\n",
    "import matplotlib.pyplot as plt\n",
    "from matplotlib.animation import FuncAnimation\n",
    "import seaborn as sns\n",
    "%matplotlib qt\n",
    "fig = plt.figure(figsize=(8,6))\n",
    "axes = fig.add_subplot(1,1,1)\n",
    "axes.set_ylim(0, 13000)\n",
    "plt.style.use(\"seaborn\")\n",
    "\n",
    "result1 = db.execute(QUERY_1).fetchall() #the tuple containing the hour and number of rides\n",
    "\n",
    "hours = [ele[0] for ele in result1]\n",
    "rides = [ele[1] for ele in result1]\n",
    "\n",
    "lst1=[0, rides[0]/3, 2*rides[0]/3, rides[0]]\n",
    "lst2=[0, rides[1]/3, 2*rides[1]/3, rides[1]]\n",
    "lst3=[0, rides[2]/3, 2*rides[2]/3, rides[2]]\n",
    "lst4=[0, rides[3]/3, 2*rides[3]/3, rides[3]]\n",
    "lst5=[0, rides[4]/3, 2*rides[4]/3, rides[4]]\n",
    "lst6=[0, rides[5]/3, 2*rides[5]/3, rides[5]]\n",
    "lst7=[0, rides[6]/3, 2*rides[6]/3, rides[6]]\n",
    "lst8=[0, rides[7]/3, 2*rides[7]/3, rides[7]]\n",
    "lst9=[0, rides[8]/3, 2*rides[8]/3, rides[8]]\n",
    "lst10=[0, rides[9]/3, 2*rides[9]/3, rides[9]]\n",
    "lst11=[0, rides[10]/3, 2*rides[10]/3, rides[10]]\n",
    "lst12=[0, rides[11]/3, 2*rides[11]/3, rides[11]]\n",
    "lst13=[0, rides[12]/3, 2*rides[12]/3, rides[12]]\n",
    "lst14=[0, rides[13]/3, 2*rides[13]/3, rides[13]]\n",
    "lst15=[0, rides[14]/3, 2*rides[14]/3, rides[14]]\n",
    "lst16=[0, rides[15]/3, 2*rides[15]/3, rides[15]]\n",
    "lst17=[0, rides[16]/3, 2*rides[16]/3, rides[16]]\n",
    "lst18=[0, rides[17]/3, 2*rides[17]/3, rides[17]]\n",
    "lst19=[0, rides[18]/3, 2*rides[18]/3, rides[18]]\n",
    "lst20=[0, rides[19]/3, 2*rides[19]/3, rides[19]]\n",
    "lst21=[0, rides[20]/3, 2*rides[20]/3, rides[20]]\n",
    "lst22=[0, rides[21]/3, 2*rides[21]/3, rides[21]]\n",
    "lst23=[0, rides[22]/3, 2*rides[22]/3, rides[22]]\n",
    "lst24=[0, rides[23]/3, 2*rides[23]/3, rides[23]]\n",
    "\n",
    "palette = list(reversed(sns.color_palette(\"seismic\", 24).as_hex()))\n",
    "\n",
    "y1, y2, = [], []\n",
    "def animate(i):\n",
    "    y1=lst1[i]\n",
    "    y2=lst2[i]\n",
    "    y3=lst3[i]\n",
    "    y4=lst4[i]\n",
    "    y5=lst5[i]\n",
    "    y6=lst6[i]\n",
    "    y7=lst7[i]\n",
    "    y8=lst8[i]\n",
    "    y9=lst9[i]\n",
    "    y10=lst10[i]\n",
    "    y11=lst11[i]\n",
    "    y12=lst12[i]\n",
    "    y13=lst13[i]\n",
    "    y14=lst14[i]\n",
    "    y15=lst15[i]\n",
    "    y16=lst16[i]\n",
    "    y17=lst17[i]\n",
    "    y18=lst18[i]\n",
    "    y19=lst19[i]\n",
    "    y20=lst20[i]\n",
    "    y21=lst21[i]\n",
    "    y22=lst22[i]\n",
    "    y23=lst23[i]\n",
    "    y24=lst24[i]\n",
    "\n",
    "    \n",
    "    plt.bar(hours, [y1,y2, y3, y4, y5, y6, y7, y8, y9, y10, y11, y12, y13, y14, y15, y16, y17, y18, y19, y20, y21, y22, y23, y24], color=palette)\n",
    "\n",
    "plt.title(\"Animation\", color=(\"blue\"))\n",
    "ani = FuncAnimation(fig, animate, interval=100)\n",
    "\n",
    "\n",
    "#######please note that you need to close the animation picture in order to let the program finish!!!!!!!\n"
   ]
  },
  {
   "cell_type": "code",
   "execution_count": null,
   "id": "80fa3273",
   "metadata": {},
   "outputs": [],
   "source": []
  }
 ],
 "metadata": {
  "interpreter": {
   "hash": "4b700fda2b1fe4e42d09251a5077ace29fa7b3db07261659c5bdece5f107dc5e"
  },
  "kernelspec": {
   "display_name": "Python 3.8.5 ('base')",
   "language": "python",
   "name": "python3"
  },
  "language_info": {
   "codemirror_mode": {
    "name": "ipython",
    "version": 3
   },
   "file_extension": ".py",
   "mimetype": "text/x-python",
   "name": "python",
   "nbconvert_exporter": "python",
   "pygments_lexer": "ipython3",
   "version": "3.8.5"
  },
  "vscode": {
   "interpreter": {
    "hash": "c64d787435b7a7ed91bf6c7246b7777ba2f470a2b271099e906ca111fdb42b0e"
   }
  }
 },
 "nbformat": 4,
 "nbformat_minor": 5
}
